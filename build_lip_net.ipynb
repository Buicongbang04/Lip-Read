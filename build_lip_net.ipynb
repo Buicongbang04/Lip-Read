{
 "cells": [
  {
   "cell_type": "code",
   "id": "initial_id",
   "metadata": {
    "collapsed": true,
    "ExecuteTime": {
     "end_time": "2024-08-05T05:52:07.088137Z",
     "start_time": "2024-08-05T05:52:07.073079Z"
    }
   },
   "source": "# !pip install opencv-python matplotlib imageio gdown tensorflow",
   "outputs": [],
   "execution_count": 82
  },
  {
   "metadata": {
    "ExecuteTime": {
     "end_time": "2024-08-05T05:52:07.314850Z",
     "start_time": "2024-08-05T05:52:07.296007Z"
    }
   },
   "cell_type": "code",
   "source": "# conda install pytorch torchvision torchaudio pytorch-cuda=11.8 -c pytorch -c nvidia",
   "id": "5c0166c2adf0fabd",
   "outputs": [],
   "execution_count": 83
  },
  {
   "metadata": {},
   "cell_type": "markdown",
   "source": "## Config GPU CUDA",
   "id": "b46b3b6d00cb228"
  },
  {
   "metadata": {
    "ExecuteTime": {
     "end_time": "2024-08-05T05:52:07.336777Z",
     "start_time": "2024-08-05T05:52:07.332770Z"
    }
   },
   "cell_type": "code",
   "source": [
    "import torch\n",
    "\n",
    "print(f\"Is CUDA supported by this system? {torch.cuda.is_available()}\")\n",
    "print(f\"CUDA version: {torch.version.cuda}\")\n",
    " \n",
    "# Storing ID of current CUDA device\n",
    "cuda_id = torch.cuda.current_device()\n",
    "print(f\"ID of current CUDA device: {cuda_id}\")\n",
    "       \n",
    "print(f\"Name of current CUDA device: {torch.cuda.get_device_name(cuda_id)}\")"
   ],
   "id": "8b5b306abce43590",
   "outputs": [
    {
     "name": "stdout",
     "output_type": "stream",
     "text": [
      "Is CUDA supported by this system? True\n",
      "CUDA version: 11.8\n",
      "ID of current CUDA device: 0\n",
      "Name of current CUDA device: NVIDIA GeForce RTX 3050 Laptop GPU\n"
     ]
    }
   ],
   "execution_count": 84
  },
  {
   "metadata": {
    "ExecuteTime": {
     "end_time": "2024-08-05T05:52:07.388236Z",
     "start_time": "2024-08-05T05:52:07.370129Z"
    }
   },
   "cell_type": "code",
   "source": [
    "import os\n",
    "import cv2\n",
    "import tensorflow as tf\n",
    "import numpy as np\n",
    "from typing import List\n",
    "from matplotlib import pyplot as plt\n",
    "import imageio"
   ],
   "id": "59bab0aaf70a268",
   "outputs": [],
   "execution_count": 85
  },
  {
   "metadata": {},
   "cell_type": "markdown",
   "source": "## 1. Build Data loading function",
   "id": "bfdc2f2b99d6880"
  },
  {
   "metadata": {
    "ExecuteTime": {
     "end_time": "2024-08-05T05:52:07.451541Z",
     "start_time": "2024-08-05T05:52:07.448645Z"
    }
   },
   "cell_type": "code",
   "source": "import gdown",
   "id": "97b34ada0247986",
   "outputs": [],
   "execution_count": 86
  },
  {
   "metadata": {
    "ExecuteTime": {
     "end_time": "2024-08-05T05:52:07.469585Z",
     "start_time": "2024-08-05T05:52:07.464560Z"
    }
   },
   "cell_type": "code",
   "source": [
    "# url = 'https://drive.google.com/uc?id=1YlvpDLix3S-U8fd-gqRwPcWXAXm8JwjL'\n",
    "# output = 'D:\\\\NCKH\\\\LipFormer\\\\data.zip'\n",
    "# gdown.download(url, output, quiet=False)\n",
    "# gdown.extractall(output)"
   ],
   "id": "df45e5dab8bed648",
   "outputs": [],
   "execution_count": 87
  },
  {
   "metadata": {
    "ExecuteTime": {
     "end_time": "2024-08-05T05:52:07.486160Z",
     "start_time": "2024-08-05T05:52:07.480602Z"
    }
   },
   "cell_type": "code",
   "source": [
    "def load_video(path): \n",
    "\n",
    "    cap = cv2.VideoCapture(path)\n",
    "    frames = []\n",
    "    for _ in range(int(cap.get(cv2.CAP_PROP_FRAME_COUNT))): \n",
    "        ret, frame = cap.read()\n",
    "        frame = tf.image.rgb_to_grayscale(frame)\n",
    "        frames.append(frame[190:236,80:220,:])\n",
    "    cap.release()\n",
    "    \n",
    "    mean = tf.math.reduce_mean(frames)\n",
    "    std = tf.math.reduce_std(tf.cast(frames, tf.float32))\n",
    "    return tf.cast((frames - mean), tf.float32) / std"
   ],
   "id": "d23163c3e8cf4e0f",
   "outputs": [],
   "execution_count": 88
  },
  {
   "metadata": {
    "ExecuteTime": {
     "end_time": "2024-08-05T05:52:07.532617Z",
     "start_time": "2024-08-05T05:52:07.527949Z"
    }
   },
   "cell_type": "code",
   "source": "vocab = [x for x in \"abcdefghijklmnopqrstuvwxyz'?!123456789 \"]",
   "id": "8dd669a4e0bf5e79",
   "outputs": [],
   "execution_count": 89
  },
  {
   "metadata": {
    "ExecuteTime": {
     "end_time": "2024-08-05T05:52:07.565990Z",
     "start_time": "2024-08-05T05:52:07.543636Z"
    }
   },
   "cell_type": "code",
   "source": [
    "char_to_num = tf.keras.layers.StringLookup(vocabulary=vocab, oov_token=\"\")\n",
    "num_to_char = tf.keras.layers.StringLookup(\n",
    "    vocabulary=char_to_num.get_vocabulary(), oov_token=\"\", invert=True\n",
    ")\n",
    "\n",
    "print(\n",
    "    f\"The vocabulary is: {char_to_num.get_vocabulary()} \\n\"\n",
    "    f\"size ={char_to_num.vocabulary_size()}\"\n",
    ")"
   ],
   "id": "a0614635e3ceb73e",
   "outputs": [
    {
     "name": "stdout",
     "output_type": "stream",
     "text": [
      "The vocabulary is: ['', 'a', 'b', 'c', 'd', 'e', 'f', 'g', 'h', 'i', 'j', 'k', 'l', 'm', 'n', 'o', 'p', 'q', 'r', 's', 't', 'u', 'v', 'w', 'x', 'y', 'z', \"'\", '?', '!', '1', '2', '3', '4', '5', '6', '7', '8', '9', ' '] \n",
      "size =40\n"
     ]
    }
   ],
   "execution_count": 90
  },
  {
   "metadata": {
    "ExecuteTime": {
     "end_time": "2024-08-05T05:52:07.580758Z",
     "start_time": "2024-08-05T05:52:07.575016Z"
    }
   },
   "cell_type": "code",
   "source": "char_to_num.get_vocabulary()",
   "id": "763f0b4c365a2126",
   "outputs": [
    {
     "data": {
      "text/plain": [
       "['',\n",
       " 'a',\n",
       " 'b',\n",
       " 'c',\n",
       " 'd',\n",
       " 'e',\n",
       " 'f',\n",
       " 'g',\n",
       " 'h',\n",
       " 'i',\n",
       " 'j',\n",
       " 'k',\n",
       " 'l',\n",
       " 'm',\n",
       " 'n',\n",
       " 'o',\n",
       " 'p',\n",
       " 'q',\n",
       " 'r',\n",
       " 's',\n",
       " 't',\n",
       " 'u',\n",
       " 'v',\n",
       " 'w',\n",
       " 'x',\n",
       " 'y',\n",
       " 'z',\n",
       " \"'\",\n",
       " '?',\n",
       " '!',\n",
       " '1',\n",
       " '2',\n",
       " '3',\n",
       " '4',\n",
       " '5',\n",
       " '6',\n",
       " '7',\n",
       " '8',\n",
       " '9',\n",
       " ' ']"
      ]
     },
     "execution_count": 91,
     "metadata": {},
     "output_type": "execute_result"
    }
   ],
   "execution_count": 91
  },
  {
   "metadata": {
    "ExecuteTime": {
     "end_time": "2024-08-05T05:52:07.624628Z",
     "start_time": "2024-08-05T05:52:07.606431Z"
    }
   },
   "cell_type": "code",
   "source": "char_to_num(['n','i','c','k'])",
   "id": "7cf652bc7748a998",
   "outputs": [
    {
     "data": {
      "text/plain": [
       "<tf.Tensor: shape=(4,), dtype=int64, numpy=array([14,  9,  3, 11], dtype=int64)>"
      ]
     },
     "execution_count": 92,
     "metadata": {},
     "output_type": "execute_result"
    }
   ],
   "execution_count": 92
  },
  {
   "metadata": {
    "ExecuteTime": {
     "end_time": "2024-08-05T05:52:07.639189Z",
     "start_time": "2024-08-05T05:52:07.624628Z"
    }
   },
   "cell_type": "code",
   "source": "num_to_char([14,  9,  3, 11])",
   "id": "f3de3b7ec502bba1",
   "outputs": [
    {
     "data": {
      "text/plain": [
       "<tf.Tensor: shape=(4,), dtype=string, numpy=array([b'n', b'i', b'c', b'k'], dtype=object)>"
      ]
     },
     "execution_count": 93,
     "metadata": {},
     "output_type": "execute_result"
    }
   ],
   "execution_count": 93
  },
  {
   "metadata": {
    "ExecuteTime": {
     "end_time": "2024-08-05T05:52:07.653215Z",
     "start_time": "2024-08-05T05:52:07.639189Z"
    }
   },
   "cell_type": "code",
   "source": [
    "def load_alignments(path:str) -> List[str]: \n",
    "    with open(path, 'r') as f: \n",
    "        lines = f.readlines() \n",
    "    tokens = []\n",
    "    \n",
    "    for line in lines:\n",
    "        line = line.split()\n",
    "        if line[2] != 'sil': \n",
    "            tokens = [*tokens,' ',line[2]]\n",
    "            \n",
    "    return char_to_num(tf.reshape(tf.strings.unicode_split(tokens, input_encoding='UTF-8'), (-1)))[1:]"
   ],
   "id": "302fef9e8b83b68a",
   "outputs": [],
   "execution_count": 94
  },
  {
   "metadata": {
    "ExecuteTime": {
     "end_time": "2024-08-05T05:52:07.689410Z",
     "start_time": "2024-08-05T05:52:07.685480Z"
    }
   },
   "cell_type": "code",
   "source": [
    "def load_data(path: str): \n",
    "    path = bytes.decode(path.numpy())\n",
    "    file_name = path.split('\\\\')[-1].split('.')[0]\n",
    "    video_path = os.path.join('data','s1',f'{file_name}.mpg')\n",
    "    alignment_path = os.path.join('data','alignments','s1',f'{file_name}.align')\n",
    "    frames = load_video(video_path) \n",
    "    alignments = load_alignments(alignment_path)\n",
    "    \n",
    "    return frames, alignments"
   ],
   "id": "a7138f6a7ab5868c",
   "outputs": [],
   "execution_count": 95
  },
  {
   "metadata": {
    "ExecuteTime": {
     "end_time": "2024-08-05T05:52:07.736424Z",
     "start_time": "2024-08-05T05:52:07.718158Z"
    }
   },
   "cell_type": "code",
   "source": "test_path = '.\\\\data\\\\s1\\\\bbaf2n.mpg'",
   "id": "c8cdee9712884a52",
   "outputs": [],
   "execution_count": 96
  },
  {
   "metadata": {
    "ExecuteTime": {
     "end_time": "2024-08-05T05:52:07.772837Z",
     "start_time": "2024-08-05T05:52:07.765622Z"
    }
   },
   "cell_type": "code",
   "source": "tf.convert_to_tensor(test_path).numpy().decode('utf-8').split('\\\\')[-1].split('.')[0]",
   "id": "fe3018d22ed4adb2",
   "outputs": [
    {
     "data": {
      "text/plain": [
       "'bbaf2n'"
      ]
     },
     "execution_count": 97,
     "metadata": {},
     "output_type": "execute_result"
    }
   ],
   "execution_count": 97
  },
  {
   "metadata": {
    "ExecuteTime": {
     "end_time": "2024-08-05T05:52:07.975032Z",
     "start_time": "2024-08-05T05:52:07.796990Z"
    }
   },
   "cell_type": "code",
   "source": "frames, alignments = load_data(tf.convert_to_tensor(test_path))",
   "id": "821a3f552f9306a4",
   "outputs": [],
   "execution_count": 98
  },
  {
   "metadata": {
    "ExecuteTime": {
     "end_time": "2024-08-05T05:52:08.062683Z",
     "start_time": "2024-08-05T05:52:07.975032Z"
    }
   },
   "cell_type": "code",
   "source": "plt.imshow(frames[40])",
   "id": "43d3b1d7138eacf5",
   "outputs": [
    {
     "data": {
      "text/plain": [
       "<matplotlib.image.AxesImage at 0x1962b3cb6b0>"
      ]
     },
     "execution_count": 99,
     "metadata": {},
     "output_type": "execute_result"
    },
    {
     "data": {
      "text/plain": [
       "<Figure size 640x480 with 1 Axes>"
      ],
      "image/png": "[encoded data removed]"
     },
     "metadata": {},
     "output_type": "display_data"
    }
   ],
   "execution_count": 99
  },
  {
   "metadata": {
    "ExecuteTime": {
     "end_time": "2024-08-05T05:52:08.069267Z",
     "start_time": "2024-08-05T05:52:08.062683Z"
    }
   },
   "cell_type": "code",
   "source": "tf.strings.reduce_join([bytes.decode(x) for x in num_to_char(alignments.numpy()).numpy()])",
   "id": "b088b3f7a10773ca",
   "outputs": [
    {
     "data": {
      "text/plain": [
       "<tf.Tensor: shape=(), dtype=string, numpy=b'bin blue at f two now'>"
      ]
     },
     "execution_count": 100,
     "metadata": {},
     "output_type": "execute_result"
    }
   ],
   "execution_count": 100
  },
  {
   "metadata": {
    "ExecuteTime": {
     "end_time": "2024-08-05T05:52:08.084312Z",
     "start_time": "2024-08-05T05:52:08.069267Z"
    }
   },
   "cell_type": "code",
   "source": "\"\".join([bytes.decode(x) for x in num_to_char(alignments.numpy()).numpy()])",
   "id": "ed4fff46bac1e622",
   "outputs": [
    {
     "data": {
      "text/plain": [
       "'bin blue at f two now'"
      ]
     },
     "execution_count": 101,
     "metadata": {},
     "output_type": "execute_result"
    }
   ],
   "execution_count": 101
  },
  {
   "metadata": {
    "ExecuteTime": {
     "end_time": "2024-08-05T05:52:08.095962Z",
     "start_time": "2024-08-05T05:52:08.084312Z"
    }
   },
   "cell_type": "code",
   "source": [
    "def mappable_function(path):\n",
    "    result = tf.py_function(load_data, [path], (tf.float32, tf.int64))\n",
    "    return result"
   ],
   "id": "5e315e616aa5bf7a",
   "outputs": [],
   "execution_count": 102
  },
  {
   "metadata": {},
   "cell_type": "markdown",
   "source": "## 2. Build data pipeline",
   "id": "5a5d212a565ead24"
  },
  {
   "metadata": {
    "ExecuteTime": {
     "end_time": "2024-08-05T05:52:08.108782Z",
     "start_time": "2024-08-05T05:52:08.095962Z"
    }
   },
   "cell_type": "code",
   "source": [
    "import tensorflow as tf\n",
    "from matplotlib import pyplot as plt"
   ],
   "id": "121323d7eb925394",
   "outputs": [],
   "execution_count": 103
  },
  {
   "metadata": {
    "ExecuteTime": {
     "end_time": "2024-08-05T05:52:08.155293Z",
     "start_time": "2024-08-05T05:52:08.108782Z"
    }
   },
   "cell_type": "code",
   "source": [
    "data = tf.data.Dataset.list_files('./data/s1/*.mpg')\n",
    "data = data.shuffle(500, reshuffle_each_iteration=False)\n",
    "data = data.map(mappable_function)\n",
    "data = data.padded_batch(2, padded_shapes=([75,None,None,None],[40]))\n",
    "data = data.prefetch(tf.data.AUTOTUNE)\n",
    "\n",
    "train = data.take(450)\n",
    "test = data.skip(450)"
   ],
   "id": "ee60dafc9bed6e05",
   "outputs": [],
   "execution_count": 104
  },
  {
   "metadata": {
    "ExecuteTime": {
     "end_time": "2024-08-05T05:52:08.160554Z",
     "start_time": "2024-08-05T05:52:08.155293Z"
    }
   },
   "cell_type": "code",
   "source": "len(test)",
   "id": "114d3729553dbb18",
   "outputs": [
    {
     "data": {
      "text/plain": [
       "50"
      ]
     },
     "execution_count": 105,
     "metadata": {},
     "output_type": "execute_result"
    }
   ],
   "execution_count": 105
  },
  {
   "metadata": {
    "ExecuteTime": {
     "end_time": "2024-08-05T05:52:08.701782Z",
     "start_time": "2024-08-05T05:52:08.160554Z"
    }
   },
   "cell_type": "code",
   "source": "frames, alignments = data.as_numpy_iterator().next()",
   "id": "6c431f8efefae47b",
   "outputs": [],
   "execution_count": 106
  },
  {
   "metadata": {
    "ExecuteTime": {
     "end_time": "2024-08-05T05:52:08.707677Z",
     "start_time": "2024-08-05T05:52:08.701782Z"
    }
   },
   "cell_type": "code",
   "source": "len(frames)",
   "id": "122db274c9bc2800",
   "outputs": [
    {
     "data": {
      "text/plain": [
       "2"
      ]
     },
     "execution_count": 107,
     "metadata": {},
     "output_type": "execute_result"
    }
   ],
   "execution_count": 107
  },
  {
   "metadata": {
    "ExecuteTime": {
     "end_time": "2024-08-05T05:52:08.721843Z",
     "start_time": "2024-08-05T05:52:08.707677Z"
    }
   },
   "cell_type": "code",
   "source": "sample = data.as_numpy_iterator()",
   "id": "df0b0620ba1a8915",
   "outputs": [],
   "execution_count": 108
  },
  {
   "metadata": {
    "ExecuteTime": {
     "end_time": "2024-08-05T05:52:09.046615Z",
     "start_time": "2024-08-05T05:52:08.721843Z"
    }
   },
   "cell_type": "code",
   "source": "val = sample.next(); val[0]",
   "id": "ff26429d56f1c08c",
   "outputs": [
    {
     "data": {
      "text/plain": [
       "array([[[[[ 1.3971723 ],\n",
       "          [ 1.3971723 ],\n",
       "          [ 1.439511  ],\n",
       "          ...,\n",
       "          [10.753993  ],\n",
       "          [10.796332  ],\n",
       "          [10.796332  ]],\n",
       "\n",
       "         [[ 1.3971723 ],\n",
       "          [ 1.3971723 ],\n",
       "          [ 1.439511  ],\n",
       "          ...,\n",
       "          [10.753993  ],\n",
       "          [10.796332  ],\n",
       "          [10.796332  ]],\n",
       "\n",
       "         [[ 1.3548338 ],\n",
       "          [ 1.3548338 ],\n",
       "          [ 1.3548338 ],\n",
       "          ...,\n",
       "          [ 0.        ],\n",
       "          [ 0.        ],\n",
       "          [ 0.        ]],\n",
       "\n",
       "         ...,\n",
       "\n",
       "         [[ 1.0161253 ],\n",
       "          [ 1.0161253 ],\n",
       "          [ 1.0161253 ],\n",
       "          ...,\n",
       "          [10.5423    ],\n",
       "          [10.5423    ],\n",
       "          [10.5423    ]],\n",
       "\n",
       "         [[ 1.0161253 ],\n",
       "          [ 1.0161253 ],\n",
       "          [ 1.0161253 ],\n",
       "          ...,\n",
       "          [10.499962  ],\n",
       "          [10.499962  ],\n",
       "          [10.499962  ]],\n",
       "\n",
       "         [[ 1.0161253 ],\n",
       "          [ 1.0161253 ],\n",
       "          [ 1.0161253 ],\n",
       "          ...,\n",
       "          [10.499962  ],\n",
       "          [10.499962  ],\n",
       "          [10.499962  ]]],\n",
       "\n",
       "\n",
       "        [[[ 1.3971723 ],\n",
       "          [ 1.3971723 ],\n",
       "          [ 1.439511  ],\n",
       "          ...,\n",
       "          [10.753993  ],\n",
       "          [ 0.        ],\n",
       "          [ 0.        ]],\n",
       "\n",
       "         [[ 1.3971723 ],\n",
       "          [ 1.3971723 ],\n",
       "          [ 1.439511  ],\n",
       "          ...,\n",
       "          [10.753993  ],\n",
       "          [ 0.        ],\n",
       "          [ 0.        ]],\n",
       "\n",
       "         [[ 1.3971723 ],\n",
       "          [ 1.3971723 ],\n",
       "          [ 1.3971723 ],\n",
       "          ...,\n",
       "          [10.753993  ],\n",
       "          [10.796332  ],\n",
       "          [10.796332  ]],\n",
       "\n",
       "         ...,\n",
       "\n",
       "         [[ 1.0161253 ],\n",
       "          [ 1.0161253 ],\n",
       "          [ 1.0161253 ],\n",
       "          ...,\n",
       "          [10.4576235 ],\n",
       "          [10.4576235 ],\n",
       "          [10.4576235 ]],\n",
       "\n",
       "         [[ 1.0161253 ],\n",
       "          [ 1.0161253 ],\n",
       "          [ 1.0161253 ],\n",
       "          ...,\n",
       "          [10.4576235 ],\n",
       "          [10.4576235 ],\n",
       "          [10.4576235 ]],\n",
       "\n",
       "         [[ 1.0161253 ],\n",
       "          [ 1.0161253 ],\n",
       "          [ 1.0161253 ],\n",
       "          ...,\n",
       "          [10.4576235 ],\n",
       "          [10.4576235 ],\n",
       "          [10.4576235 ]]],\n",
       "\n",
       "\n",
       "        [[[ 1.439511  ],\n",
       "          [ 1.439511  ],\n",
       "          [ 1.439511  ],\n",
       "          ...,\n",
       "          [ 0.        ],\n",
       "          [ 0.04233856],\n",
       "          [ 0.04233856]],\n",
       "\n",
       "         [[ 1.439511  ],\n",
       "          [ 1.439511  ],\n",
       "          [ 1.439511  ],\n",
       "          ...,\n",
       "          [ 0.        ],\n",
       "          [ 0.04233856],\n",
       "          [ 0.04233856]],\n",
       "\n",
       "         [[ 1.439511  ],\n",
       "          [ 1.3971723 ],\n",
       "          [ 1.3971723 ],\n",
       "          ...,\n",
       "          [10.796332  ],\n",
       "          [10.753993  ],\n",
       "          [10.796332  ]],\n",
       "\n",
       "         ...,\n",
       "\n",
       "         [[ 1.0584639 ],\n",
       "          [ 1.0584639 ],\n",
       "          [ 1.0161253 ],\n",
       "          ...,\n",
       "          [10.4576235 ],\n",
       "          [10.4576235 ],\n",
       "          [10.4576235 ]],\n",
       "\n",
       "         [[ 0.97378683],\n",
       "          [ 0.97378683],\n",
       "          [ 0.97378683],\n",
       "          ...,\n",
       "          [10.4576235 ],\n",
       "          [10.4576235 ],\n",
       "          [10.4576235 ]],\n",
       "\n",
       "         [[ 0.97378683],\n",
       "          [ 0.97378683],\n",
       "          [ 0.97378683],\n",
       "          ...,\n",
       "          [10.4576235 ],\n",
       "          [10.4576235 ],\n",
       "          [10.4576235 ]]],\n",
       "\n",
       "\n",
       "        ...,\n",
       "\n",
       "\n",
       "        [[[ 1.4818494 ],\n",
       "          [ 1.4818494 ],\n",
       "          [ 1.439511  ],\n",
       "          ...,\n",
       "          [10.711655  ],\n",
       "          [10.753993  ],\n",
       "          [10.753993  ]],\n",
       "\n",
       "         [[ 1.4818494 ],\n",
       "          [ 1.4818494 ],\n",
       "          [ 1.439511  ],\n",
       "          ...,\n",
       "          [10.711655  ],\n",
       "          [10.753993  ],\n",
       "          [10.753993  ]],\n",
       "\n",
       "         [[ 1.3971723 ],\n",
       "          [ 1.3971723 ],\n",
       "          [ 1.3971723 ],\n",
       "          ...,\n",
       "          [10.753993  ],\n",
       "          [10.753993  ],\n",
       "          [10.753993  ]],\n",
       "\n",
       "         ...,\n",
       "\n",
       "         [[ 0.97378683],\n",
       "          [ 0.97378683],\n",
       "          [ 0.97378683],\n",
       "          ...,\n",
       "          [10.5423    ],\n",
       "          [10.5423    ],\n",
       "          [10.5423    ]],\n",
       "\n",
       "         [[ 0.97378683],\n",
       "          [ 0.97378683],\n",
       "          [ 0.97378683],\n",
       "          ...,\n",
       "          [10.499962  ],\n",
       "          [10.499962  ],\n",
       "          [10.499962  ]],\n",
       "\n",
       "         [[ 0.97378683],\n",
       "          [ 0.97378683],\n",
       "          [ 0.9314482 ],\n",
       "          ...,\n",
       "          [10.4576235 ],\n",
       "          [10.4576235 ],\n",
       "          [10.4576235 ]]],\n",
       "\n",
       "\n",
       "        [[[ 1.4818494 ],\n",
       "          [ 1.4818494 ],\n",
       "          [ 1.3971723 ],\n",
       "          ...,\n",
       "          [10.796332  ],\n",
       "          [ 0.        ],\n",
       "          [10.796332  ]],\n",
       "\n",
       "         [[ 1.4818494 ],\n",
       "          [ 1.4818494 ],\n",
       "          [ 1.3971723 ],\n",
       "          ...,\n",
       "          [10.796332  ],\n",
       "          [ 0.        ],\n",
       "          [10.796332  ]],\n",
       "\n",
       "         [[ 1.439511  ],\n",
       "          [ 1.439511  ],\n",
       "          [ 1.439511  ],\n",
       "          ...,\n",
       "          [10.796332  ],\n",
       "          [10.796332  ],\n",
       "          [10.796332  ]],\n",
       "\n",
       "         ...,\n",
       "\n",
       "         [[ 0.97378683],\n",
       "          [ 0.97378683],\n",
       "          [ 0.97378683],\n",
       "          ...,\n",
       "          [10.499962  ],\n",
       "          [10.499962  ],\n",
       "          [10.499962  ]],\n",
       "\n",
       "         [[ 0.97378683],\n",
       "          [ 0.97378683],\n",
       "          [ 0.97378683],\n",
       "          ...,\n",
       "          [10.499962  ],\n",
       "          [10.499962  ],\n",
       "          [10.499962  ]],\n",
       "\n",
       "         [[ 0.97378683],\n",
       "          [ 0.97378683],\n",
       "          [ 0.9314482 ],\n",
       "          ...,\n",
       "          [10.4576235 ],\n",
       "          [10.4576235 ],\n",
       "          [10.4576235 ]]],\n",
       "\n",
       "\n",
       "        [[[ 1.4818494 ],\n",
       "          [ 1.4818494 ],\n",
       "          [ 1.439511  ],\n",
       "          ...,\n",
       "          [ 0.        ],\n",
       "          [ 0.04233856],\n",
       "          [ 0.        ]],\n",
       "\n",
       "         [[ 1.4818494 ],\n",
       "          [ 1.4818494 ],\n",
       "          [ 1.439511  ],\n",
       "          ...,\n",
       "          [ 0.        ],\n",
       "          [ 0.04233856],\n",
       "          [ 0.        ]],\n",
       "\n",
       "         [[ 1.439511  ],\n",
       "          [ 1.439511  ],\n",
       "          [ 1.4818494 ],\n",
       "          ...,\n",
       "          [10.796332  ],\n",
       "          [10.796332  ],\n",
       "          [10.796332  ]],\n",
       "\n",
       "         ...,\n",
       "\n",
       "         [[ 1.0161253 ],\n",
       "          [ 1.0161253 ],\n",
       "          [ 1.0161253 ],\n",
       "          ...,\n",
       "          [10.5423    ],\n",
       "          [10.5423    ],\n",
       "          [10.5423    ]],\n",
       "\n",
       "         [[ 1.0161253 ],\n",
       "          [ 0.97378683],\n",
       "          [ 0.97378683],\n",
       "          ...,\n",
       "          [10.499962  ],\n",
       "          [10.499962  ],\n",
       "          [10.499962  ]],\n",
       "\n",
       "         [[ 0.97378683],\n",
       "          [ 0.97378683],\n",
       "          [ 0.97378683],\n",
       "          ...,\n",
       "          [10.499962  ],\n",
       "          [10.499962  ],\n",
       "          [10.499962  ]]]],\n",
       "\n",
       "\n",
       "\n",
       "       [[[[ 1.5679293 ],\n",
       "          [ 1.5679293 ],\n",
       "          [ 1.2935417 ],\n",
       "          ...,\n",
       "          [ 0.31358585],\n",
       "          [ 0.3527841 ],\n",
       "          [ 0.3527841 ]],\n",
       "\n",
       "         [[ 1.5287311 ],\n",
       "          [ 1.4503345 ],\n",
       "          [ 1.2935417 ],\n",
       "          ...,\n",
       "          [ 0.31358585],\n",
       "          [ 0.3527841 ],\n",
       "          [ 0.3527841 ]],\n",
       "\n",
       "         [[ 1.5679293 ],\n",
       "          [ 1.5679293 ],\n",
       "          [ 1.4895328 ],\n",
       "          ...,\n",
       "          [ 0.39198232],\n",
       "          [ 0.3527841 ],\n",
       "          [ 0.3527841 ]],\n",
       "\n",
       "         ...,\n",
       "\n",
       "         [[ 1.1367488 ],\n",
       "          [ 1.1367488 ],\n",
       "          [ 1.1367488 ],\n",
       "          ...,\n",
       "          [ 0.07839646],\n",
       "          [ 0.07839646],\n",
       "          [ 0.07839646]],\n",
       "\n",
       "         [[ 1.0975505 ],\n",
       "          [ 1.0975505 ],\n",
       "          [ 1.0975505 ],\n",
       "          ...,\n",
       "          [ 0.07839646],\n",
       "          [ 0.07839646],\n",
       "          [ 0.07839646]],\n",
       "\n",
       "         [[ 1.0975505 ],\n",
       "          [ 1.0975505 ],\n",
       "          [ 1.0975505 ],\n",
       "          ...,\n",
       "          [ 0.07839646],\n",
       "          [ 0.07839646],\n",
       "          [ 0.03919823]]],\n",
       "\n",
       "\n",
       "        [[[ 1.5287311 ],\n",
       "          [ 1.5679293 ],\n",
       "          [ 1.4111364 ],\n",
       "          ...,\n",
       "          [ 0.3527841 ],\n",
       "          [ 0.3527841 ],\n",
       "          [ 0.3527841 ]],\n",
       "\n",
       "         [[ 1.5287311 ],\n",
       "          [ 1.5287311 ],\n",
       "          [ 1.3719381 ],\n",
       "          ...,\n",
       "          [ 0.3527841 ],\n",
       "          [ 0.3527841 ],\n",
       "          [ 0.3527841 ]],\n",
       "\n",
       "         [[ 1.5287311 ],\n",
       "          [ 1.5287311 ],\n",
       "          [ 1.5287311 ],\n",
       "          ...,\n",
       "          [ 0.27438763],\n",
       "          [ 0.27438763],\n",
       "          [ 0.27438763]],\n",
       "\n",
       "         ...,\n",
       "\n",
       "         [[ 1.1367488 ],\n",
       "          [ 1.1367488 ],\n",
       "          [ 1.1367488 ],\n",
       "          ...,\n",
       "          [ 0.1175947 ],\n",
       "          [ 0.1175947 ],\n",
       "          [ 0.07839646]],\n",
       "\n",
       "         [[ 1.1367488 ],\n",
       "          [ 1.1367488 ],\n",
       "          [ 1.1367488 ],\n",
       "          ...,\n",
       "          [ 0.07839646],\n",
       "          [ 0.03919823],\n",
       "          [ 0.03919823]],\n",
       "\n",
       "         [[ 1.0975505 ],\n",
       "          [ 1.0975505 ],\n",
       "          [ 1.0975505 ],\n",
       "          ...,\n",
       "          [ 0.03919823],\n",
       "          [ 0.03919823],\n",
       "          [ 0.03919823]]],\n",
       "\n",
       "\n",
       "        [[[ 1.5679293 ],\n",
       "          [ 1.5679293 ],\n",
       "          [ 1.3719381 ],\n",
       "          ...,\n",
       "          [ 0.27438763],\n",
       "          [ 0.3527841 ],\n",
       "          [ 0.3527841 ]],\n",
       "\n",
       "         [[ 1.6463257 ],\n",
       "          [ 1.5679293 ],\n",
       "          [ 1.3719381 ],\n",
       "          ...,\n",
       "          [ 0.27438763],\n",
       "          [ 0.3527841 ],\n",
       "          [ 0.39198232]],\n",
       "\n",
       "         [[ 1.5679293 ],\n",
       "          [ 1.5679293 ],\n",
       "          [ 1.5679293 ],\n",
       "          ...,\n",
       "          [ 0.3527841 ],\n",
       "          [ 0.27438763],\n",
       "          [ 0.27438763]],\n",
       "\n",
       "         ...,\n",
       "\n",
       "         [[ 1.1367488 ],\n",
       "          [ 1.1367488 ],\n",
       "          [ 1.0975505 ],\n",
       "          ...,\n",
       "          [ 0.07839646],\n",
       "          [ 0.1175947 ],\n",
       "          [ 0.07839646]],\n",
       "\n",
       "         [[ 1.1367488 ],\n",
       "          [ 1.1367488 ],\n",
       "          [ 1.0975505 ],\n",
       "          ...,\n",
       "          [ 0.07839646],\n",
       "          [ 0.07839646],\n",
       "          [ 0.03919823]],\n",
       "\n",
       "         [[ 1.1367488 ],\n",
       "          [ 1.1367488 ],\n",
       "          [ 1.0583522 ],\n",
       "          ...,\n",
       "          [ 0.03919823],\n",
       "          [ 0.03919823],\n",
       "          [ 0.03919823]]],\n",
       "\n",
       "\n",
       "        ...,\n",
       "\n",
       "\n",
       "        [[[ 1.5679293 ],\n",
       "          [ 1.5287311 ],\n",
       "          [ 1.2543434 ],\n",
       "          ...,\n",
       "          [ 0.2351894 ],\n",
       "          [ 0.2351894 ],\n",
       "          [ 0.2351894 ]],\n",
       "\n",
       "         [[ 1.4111364 ],\n",
       "          [ 1.4111364 ],\n",
       "          [ 0.90155935],\n",
       "          ...,\n",
       "          [ 0.2351894 ],\n",
       "          [ 0.2351894 ],\n",
       "          [ 0.2351894 ]],\n",
       "\n",
       "         [[ 1.4503345 ],\n",
       "          [ 1.4503345 ],\n",
       "          [ 1.2935417 ],\n",
       "          ...,\n",
       "          [ 0.27438763],\n",
       "          [ 0.27438763],\n",
       "          [ 0.27438763]],\n",
       "\n",
       "         ...,\n",
       "\n",
       "         [[ 1.1367488 ],\n",
       "          [ 1.0975505 ],\n",
       "          [ 1.0583522 ],\n",
       "          ...,\n",
       "          [ 0.        ],\n",
       "          [ 0.        ],\n",
       "          [ 0.        ]],\n",
       "\n",
       "         [[ 1.0975505 ],\n",
       "          [ 1.0975505 ],\n",
       "          [ 1.0975505 ],\n",
       "          ...,\n",
       "          [ 0.        ],\n",
       "          [ 0.        ],\n",
       "          [ 0.        ]],\n",
       "\n",
       "         [[ 1.0975505 ],\n",
       "          [ 1.0975505 ],\n",
       "          [ 1.0583522 ],\n",
       "          ...,\n",
       "          [ 0.        ],\n",
       "          [ 0.        ],\n",
       "          [ 0.        ]]],\n",
       "\n",
       "\n",
       "        [[[ 1.5287311 ],\n",
       "          [ 1.4895328 ],\n",
       "          [ 1.1367488 ],\n",
       "          ...,\n",
       "          [ 0.27438763],\n",
       "          [ 0.27438763],\n",
       "          [ 0.27438763]],\n",
       "\n",
       "         [[ 1.4895328 ],\n",
       "          [ 1.33274   ],\n",
       "          [ 0.90155935],\n",
       "          ...,\n",
       "          [ 0.27438763],\n",
       "          [ 0.27438763],\n",
       "          [ 0.27438763]],\n",
       "\n",
       "         [[ 1.4895328 ],\n",
       "          [ 1.4895328 ],\n",
       "          [ 1.2935417 ],\n",
       "          ...,\n",
       "          [ 0.27438763],\n",
       "          [ 0.27438763],\n",
       "          [ 0.27438763]],\n",
       "\n",
       "         ...,\n",
       "\n",
       "         [[ 1.1367488 ],\n",
       "          [ 1.0975505 ],\n",
       "          [ 1.0583522 ],\n",
       "          ...,\n",
       "          [ 0.        ],\n",
       "          [ 0.        ],\n",
       "          [ 0.        ]],\n",
       "\n",
       "         [[ 1.0975505 ],\n",
       "          [ 1.0975505 ],\n",
       "          [ 1.0975505 ],\n",
       "          ...,\n",
       "          [ 0.        ],\n",
       "          [ 0.        ],\n",
       "          [ 0.        ]],\n",
       "\n",
       "         [[ 1.0975505 ],\n",
       "          [ 1.0975505 ],\n",
       "          [ 1.0583522 ],\n",
       "          ...,\n",
       "          [ 0.        ],\n",
       "          [ 0.        ],\n",
       "          [ 0.        ]]],\n",
       "\n",
       "\n",
       "        [[[ 1.6071275 ],\n",
       "          [ 1.6071275 ],\n",
       "          [ 1.1367488 ],\n",
       "          ...,\n",
       "          [ 0.31358585],\n",
       "          [ 0.2351894 ],\n",
       "          [ 0.2351894 ]],\n",
       "\n",
       "         [[ 1.5287311 ],\n",
       "          [ 1.4111364 ],\n",
       "          [ 1.0191541 ],\n",
       "          ...,\n",
       "          [ 0.31358585],\n",
       "          [ 0.2351894 ],\n",
       "          [ 0.2351894 ]],\n",
       "\n",
       "         [[ 1.6071275 ],\n",
       "          [ 1.4895328 ],\n",
       "          [ 1.3719381 ],\n",
       "          ...,\n",
       "          [ 0.27438763],\n",
       "          [ 0.27438763],\n",
       "          [ 0.27438763]],\n",
       "\n",
       "         ...,\n",
       "\n",
       "         [[ 1.0583522 ],\n",
       "          [ 1.0191541 ],\n",
       "          [ 1.0583522 ],\n",
       "          ...,\n",
       "          [ 0.03919823],\n",
       "          [ 0.03919823],\n",
       "          [ 0.03919823]],\n",
       "\n",
       "         [[ 1.0583522 ],\n",
       "          [ 1.0583522 ],\n",
       "          [ 1.0975505 ],\n",
       "          ...,\n",
       "          [ 0.        ],\n",
       "          [ 0.        ],\n",
       "          [ 0.        ]],\n",
       "\n",
       "         [[ 1.0975505 ],\n",
       "          [ 1.0975505 ],\n",
       "          [ 1.0583522 ],\n",
       "          ...,\n",
       "          [ 0.        ],\n",
       "          [ 0.        ],\n",
       "          [ 0.        ]]]]], dtype=float32)"
      ]
     },
     "execution_count": 109,
     "metadata": {},
     "output_type": "execute_result"
    }
   ],
   "execution_count": 109
  },
  {
   "metadata": {
    "ExecuteTime": {
     "end_time": "2024-08-05T05:52:09.144007Z",
     "start_time": "2024-08-05T05:52:09.046615Z"
    }
   },
   "cell_type": "code",
   "source": "plt.imshow(val[0][0][35])",
   "id": "534a626d58b56be2",
   "outputs": [
    {
     "data": {
      "text/plain": [
       "<matplotlib.image.AxesImage at 0x1962ab1db50>"
      ]
     },
     "execution_count": 110,
     "metadata": {},
     "output_type": "execute_result"
    },
    {
     "data": {
      "text/plain": [
       "<Figure size 640x480 with 1 Axes>"
      ],
      "image/png": "[encoded data removed]"
     },
     "metadata": {},
     "output_type": "display_data"
    }
   ],
   "execution_count": 110
  },
  {
   "metadata": {
    "ExecuteTime": {
     "end_time": "2024-08-05T05:52:09.175645Z",
     "start_time": "2024-08-05T05:52:09.144007Z"
    }
   },
   "cell_type": "code",
   "source": "tf.strings.reduce_join([num_to_char(word) for word in val[1][0]])",
   "id": "480a0e799adfc1d0",
   "outputs": [
    {
     "data": {
      "text/plain": [
       "<tf.Tensor: shape=(), dtype=string, numpy=b'place green by e three soon'>"
      ]
     },
     "execution_count": 111,
     "metadata": {},
     "output_type": "execute_result"
    }
   ],
   "execution_count": 111
  },
  {
   "metadata": {},
   "cell_type": "markdown",
   "source": "## 3. Design Lip network",
   "id": "97e731302afaf2fa"
  },
  {
   "metadata": {
    "ExecuteTime": {
     "end_time": "2024-08-05T05:52:09.180363Z",
     "start_time": "2024-08-05T05:52:09.175645Z"
    }
   },
   "cell_type": "code",
   "source": [
    "from tensorflow.keras.models import Sequential \n",
    "from tensorflow.keras.layers import Conv3D, LSTM, Dense, Dropout, Bidirectional, MaxPool3D, Activation, Reshape, SpatialDropout3D, BatchNormalization, TimeDistributed, Flatten\n",
    "from tensorflow.keras.optimizers import Adam\n",
    "from tensorflow.keras.callbacks import ModelCheckpoint, LearningRateScheduler"
   ],
   "id": "8cd82c864d316b11",
   "outputs": [],
   "execution_count": 112
  },
  {
   "metadata": {
    "ExecuteTime": {
     "end_time": "2024-08-05T05:52:09.810128Z",
     "start_time": "2024-08-05T05:52:09.180363Z"
    }
   },
   "cell_type": "code",
   "source": "data.as_numpy_iterator().next()[0][0].shape",
   "id": "67c8a6fa62190b73",
   "outputs": [
    {
     "data": {
      "text/plain": [
       "(75, 46, 140, 1)"
      ]
     },
     "execution_count": 113,
     "metadata": {},
     "output_type": "execute_result"
    }
   ],
   "execution_count": 113
  },
  {
   "metadata": {
    "ExecuteTime": {
     "end_time": "2024-08-05T05:52:10.576335Z",
     "start_time": "2024-08-05T05:52:09.810128Z"
    }
   },
   "cell_type": "code",
   "source": [
    "model = Sequential()\n",
    "model.add(Conv3D(128, 3, input_shape=(75,46,140,1), padding='same'))\n",
    "model.add(Activation('relu'))\n",
    "model.add(MaxPool3D((1,2,2)))\n",
    "\n",
    "model.add(Conv3D(256, 3, padding='same'))\n",
    "model.add(Activation('relu'))\n",
    "model.add(MaxPool3D((1,2,2)))\n",
    "\n",
    "model.add(Conv3D(75, 3, padding='same'))\n",
    "model.add(Activation('relu'))\n",
    "model.add(MaxPool3D((1,2,2)))\n",
    "\n",
    "model.add(TimeDistributed(Flatten()))\n",
    "\n",
    "model.add(Bidirectional(LSTM(128, kernel_initializer='Orthogonal', return_sequences=True)))\n",
    "model.add(Dropout(.5))\n",
    "\n",
    "model.add(Bidirectional(LSTM(128, kernel_initializer='Orthogonal', return_sequences=True)))\n",
    "model.add(Dropout(.5))\n",
    "\n",
    "model.add(Dense(char_to_num.vocabulary_size()+1, kernel_initializer='he_normal', activation='softmax'))"
   ],
   "id": "9f38371c0f90f713",
   "outputs": [],
   "execution_count": 114
  },
  {
   "metadata": {
    "ExecuteTime": {
     "end_time": "2024-08-05T05:52:10.593509Z",
     "start_time": "2024-08-05T05:52:10.576335Z"
    }
   },
   "cell_type": "code",
   "source": "model.summary()",
   "id": "30ffaf42c2786d7b",
   "outputs": [
    {
     "data": {
      "text/plain": [
       "\u001B[1mModel: \"sequential_4\"\u001B[0m\n"
      ],
      "text/html": [
       "<pre style=\"white-space:pre;overflow-x:auto;line-height:normal;font-family:Menlo,'DejaVu Sans Mono',consolas,'Courier New',monospace\"><span style=\"font-weight: bold\">Model: \"sequential_4\"</span>\n",
       "</pre>\n"
      ]
     },
     "metadata": {},
     "output_type": "display_data"
    },
    {
     "data": {
      "text/plain": [
       "┏━━━━━━━━━━━━━━━━━━━━━━━━━━━━━━━━━┳━━━━━━━━━━━━━━━━━━━━━━━━┳━━━━━━━━━━━━━━━┓\n",
       "┃\u001B[1m \u001B[0m\u001B[1mLayer (type)                   \u001B[0m\u001B[1m \u001B[0m┃\u001B[1m \u001B[0m\u001B[1mOutput Shape          \u001B[0m\u001B[1m \u001B[0m┃\u001B[1m \u001B[0m\u001B[1m      Param #\u001B[0m\u001B[1m \u001B[0m┃\n",
       "┡━━━━━━━━━━━━━━━━━━━━━━━━━━━━━━━━━╇━━━━━━━━━━━━━━━━━━━━━━━━╇━━━━━━━━━━━━━━━┩\n",
       "│ conv3d_12 (\u001B[38;5;33mConv3D\u001B[0m)              │ (\u001B[38;5;45mNone\u001B[0m, \u001B[38;5;34m75\u001B[0m, \u001B[38;5;34m46\u001B[0m, \u001B[38;5;34m140\u001B[0m,    │         \u001B[38;5;34m3,584\u001B[0m │\n",
       "│                                 │ \u001B[38;5;34m128\u001B[0m)                   │               │\n",
       "├─────────────────────────────────┼────────────────────────┼───────────────┤\n",
       "│ activation_12 (\u001B[38;5;33mActivation\u001B[0m)      │ (\u001B[38;5;45mNone\u001B[0m, \u001B[38;5;34m75\u001B[0m, \u001B[38;5;34m46\u001B[0m, \u001B[38;5;34m140\u001B[0m,    │             \u001B[38;5;34m0\u001B[0m │\n",
       "│                                 │ \u001B[38;5;34m128\u001B[0m)                   │               │\n",
       "├─────────────────────────────────┼────────────────────────┼───────────────┤\n",
       "│ max_pooling3d_12 (\u001B[38;5;33mMaxPooling3D\u001B[0m) │ (\u001B[38;5;45mNone\u001B[0m, \u001B[38;5;34m75\u001B[0m, \u001B[38;5;34m23\u001B[0m, \u001B[38;5;34m70\u001B[0m,     │             \u001B[38;5;34m0\u001B[0m │\n",
       "│                                 │ \u001B[38;5;34m128\u001B[0m)                   │               │\n",
       "├─────────────────────────────────┼────────────────────────┼───────────────┤\n",
       "│ conv3d_13 (\u001B[38;5;33mConv3D\u001B[0m)              │ (\u001B[38;5;45mNone\u001B[0m, \u001B[38;5;34m75\u001B[0m, \u001B[38;5;34m23\u001B[0m, \u001B[38;5;34m70\u001B[0m,     │       \u001B[38;5;34m884,992\u001B[0m │\n",
       "│                                 │ \u001B[38;5;34m256\u001B[0m)                   │               │\n",
       "├─────────────────────────────────┼────────────────────────┼───────────────┤\n",
       "│ activation_13 (\u001B[38;5;33mActivation\u001B[0m)      │ (\u001B[38;5;45mNone\u001B[0m, \u001B[38;5;34m75\u001B[0m, \u001B[38;5;34m23\u001B[0m, \u001B[38;5;34m70\u001B[0m,     │             \u001B[38;5;34m0\u001B[0m │\n",
       "│                                 │ \u001B[38;5;34m256\u001B[0m)                   │               │\n",
       "├─────────────────────────────────┼────────────────────────┼───────────────┤\n",
       "│ max_pooling3d_13 (\u001B[38;5;33mMaxPooling3D\u001B[0m) │ (\u001B[38;5;45mNone\u001B[0m, \u001B[38;5;34m75\u001B[0m, \u001B[38;5;34m11\u001B[0m, \u001B[38;5;34m35\u001B[0m,     │             \u001B[38;5;34m0\u001B[0m │\n",
       "│                                 │ \u001B[38;5;34m256\u001B[0m)                   │               │\n",
       "├─────────────────────────────────┼────────────────────────┼───────────────┤\n",
       "│ conv3d_14 (\u001B[38;5;33mConv3D\u001B[0m)              │ (\u001B[38;5;45mNone\u001B[0m, \u001B[38;5;34m75\u001B[0m, \u001B[38;5;34m11\u001B[0m, \u001B[38;5;34m35\u001B[0m, \u001B[38;5;34m75\u001B[0m) │       \u001B[38;5;34m518,475\u001B[0m │\n",
       "├─────────────────────────────────┼────────────────────────┼───────────────┤\n",
       "│ activation_14 (\u001B[38;5;33mActivation\u001B[0m)      │ (\u001B[38;5;45mNone\u001B[0m, \u001B[38;5;34m75\u001B[0m, \u001B[38;5;34m11\u001B[0m, \u001B[38;5;34m35\u001B[0m, \u001B[38;5;34m75\u001B[0m) │             \u001B[38;5;34m0\u001B[0m │\n",
       "├─────────────────────────────────┼────────────────────────┼───────────────┤\n",
       "│ max_pooling3d_14 (\u001B[38;5;33mMaxPooling3D\u001B[0m) │ (\u001B[38;5;45mNone\u001B[0m, \u001B[38;5;34m75\u001B[0m, \u001B[38;5;34m5\u001B[0m, \u001B[38;5;34m17\u001B[0m, \u001B[38;5;34m75\u001B[0m)  │             \u001B[38;5;34m0\u001B[0m │\n",
       "├─────────────────────────────────┼────────────────────────┼───────────────┤\n",
       "│ time_distributed_4              │ (\u001B[38;5;45mNone\u001B[0m, \u001B[38;5;34m75\u001B[0m, \u001B[38;5;34m6375\u001B[0m)       │             \u001B[38;5;34m0\u001B[0m │\n",
       "│ (\u001B[38;5;33mTimeDistributed\u001B[0m)               │                        │               │\n",
       "├─────────────────────────────────┼────────────────────────┼───────────────┤\n",
       "│ bidirectional_8 (\u001B[38;5;33mBidirectional\u001B[0m) │ (\u001B[38;5;45mNone\u001B[0m, \u001B[38;5;34m75\u001B[0m, \u001B[38;5;34m256\u001B[0m)        │     \u001B[38;5;34m6,660,096\u001B[0m │\n",
       "├─────────────────────────────────┼────────────────────────┼───────────────┤\n",
       "│ dropout_8 (\u001B[38;5;33mDropout\u001B[0m)             │ (\u001B[38;5;45mNone\u001B[0m, \u001B[38;5;34m75\u001B[0m, \u001B[38;5;34m256\u001B[0m)        │             \u001B[38;5;34m0\u001B[0m │\n",
       "├─────────────────────────────────┼────────────────────────┼───────────────┤\n",
       "│ bidirectional_9 (\u001B[38;5;33mBidirectional\u001B[0m) │ (\u001B[38;5;45mNone\u001B[0m, \u001B[38;5;34m75\u001B[0m, \u001B[38;5;34m256\u001B[0m)        │       \u001B[38;5;34m394,240\u001B[0m │\n",
       "├─────────────────────────────────┼────────────────────────┼───────────────┤\n",
       "│ dropout_9 (\u001B[38;5;33mDropout\u001B[0m)             │ (\u001B[38;5;45mNone\u001B[0m, \u001B[38;5;34m75\u001B[0m, \u001B[38;5;34m256\u001B[0m)        │             \u001B[38;5;34m0\u001B[0m │\n",
       "├─────────────────────────────────┼────────────────────────┼───────────────┤\n",
       "│ dense_4 (\u001B[38;5;33mDense\u001B[0m)                 │ (\u001B[38;5;45mNone\u001B[0m, \u001B[38;5;34m75\u001B[0m, \u001B[38;5;34m41\u001B[0m)         │        \u001B[38;5;34m10,537\u001B[0m │\n",
       "└─────────────────────────────────┴────────────────────────┴───────────────┘\n"
      ],
      "text/html": [
       "<pre style=\"white-space:pre;overflow-x:auto;line-height:normal;font-family:Menlo,'DejaVu Sans Mono',consolas,'Courier New',monospace\">┏━━━━━━━━━━━━━━━━━━━━━━━━━━━━━━━━━┳━━━━━━━━━━━━━━━━━━━━━━━━┳━━━━━━━━━━━━━━━┓\n",
       "┃<span style=\"font-weight: bold\"> Layer (type)                    </span>┃<span style=\"font-weight: bold\"> Output Shape           </span>┃<span style=\"font-weight: bold\">       Param # </span>┃\n",
       "┡━━━━━━━━━━━━━━━━━━━━━━━━━━━━━━━━━╇━━━━━━━━━━━━━━━━━━━━━━━━╇━━━━━━━━━━━━━━━┩\n",
       "│ conv3d_12 (<span style=\"color: #0087ff; text-decoration-color: #0087ff\">Conv3D</span>)              │ (<span style=\"color: #00d7ff; text-decoration-color: #00d7ff\">None</span>, <span style=\"color: #00af00; text-decoration-color: #00af00\">75</span>, <span style=\"color: #00af00; text-decoration-color: #00af00\">46</span>, <span style=\"color: #00af00; text-decoration-color: #00af00\">140</span>,    │         <span style=\"color: #00af00; text-decoration-color: #00af00\">3,584</span> │\n",
       "│                                 │ <span style=\"color: #00af00; text-decoration-color: #00af00\">128</span>)                   │               │\n",
       "├─────────────────────────────────┼────────────────────────┼───────────────┤\n",
       "│ activation_12 (<span style=\"color: #0087ff; text-decoration-color: #0087ff\">Activation</span>)      │ (<span style=\"color: #00d7ff; text-decoration-color: #00d7ff\">None</span>, <span style=\"color: #00af00; text-decoration-color: #00af00\">75</span>, <span style=\"color: #00af00; text-decoration-color: #00af00\">46</span>, <span style=\"color: #00af00; text-decoration-color: #00af00\">140</span>,    │             <span style=\"color: #00af00; text-decoration-color: #00af00\">0</span> │\n",
       "│                                 │ <span style=\"color: #00af00; text-decoration-color: #00af00\">128</span>)                   │               │\n",
       "├─────────────────────────────────┼────────────────────────┼───────────────┤\n",
       "│ max_pooling3d_12 (<span style=\"color: #0087ff; text-decoration-color: #0087ff\">MaxPooling3D</span>) │ (<span style=\"color: #00d7ff; text-decoration-color: #00d7ff\">None</span>, <span style=\"color: #00af00; text-decoration-color: #00af00\">75</span>, <span style=\"color: #00af00; text-decoration-color: #00af00\">23</span>, <span style=\"color: #00af00; text-decoration-color: #00af00\">70</span>,     │             <span style=\"color: #00af00; text-decoration-color: #00af00\">0</span> │\n",
       "│                                 │ <span style=\"color: #00af00; text-decoration-color: #00af00\">128</span>)                   │               │\n",
       "├─────────────────────────────────┼────────────────────────┼───────────────┤\n",
       "│ conv3d_13 (<span style=\"color: #0087ff; text-decoration-color: #0087ff\">Conv3D</span>)              │ (<span style=\"color: #00d7ff; text-decoration-color: #00d7ff\">None</span>, <span style=\"color: #00af00; text-decoration-color: #00af00\">75</span>, <span style=\"color: #00af00; text-decoration-color: #00af00\">23</span>, <span style=\"color: #00af00; text-decoration-color: #00af00\">70</span>,     │       <span style=\"color: #00af00; text-decoration-color: #00af00\">884,992</span> │\n",
       "│                                 │ <span style=\"color: #00af00; text-decoration-color: #00af00\">256</span>)                   │               │\n",
       "├─────────────────────────────────┼────────────────────────┼───────────────┤\n",
       "│ activation_13 (<span style=\"color: #0087ff; text-decoration-color: #0087ff\">Activation</span>)      │ (<span style=\"color: #00d7ff; text-decoration-color: #00d7ff\">None</span>, <span style=\"color: #00af00; text-decoration-color: #00af00\">75</span>, <span style=\"color: #00af00; text-decoration-color: #00af00\">23</span>, <span style=\"color: #00af00; text-decoration-color: #00af00\">70</span>,     │             <span style=\"color: #00af00; text-decoration-color: #00af00\">0</span> │\n",
       "│                                 │ <span style=\"color: #00af00; text-decoration-color: #00af00\">256</span>)                   │               │\n",
       "├─────────────────────────────────┼────────────────────────┼───────────────┤\n",
       "│ max_pooling3d_13 (<span style=\"color: #0087ff; text-decoration-color: #0087ff\">MaxPooling3D</span>) │ (<span style=\"color: #00d7ff; text-decoration-color: #00d7ff\">None</span>, <span style=\"color: #00af00; text-decoration-color: #00af00\">75</span>, <span style=\"color: #00af00; text-decoration-color: #00af00\">11</span>, <span style=\"color: #00af00; text-decoration-color: #00af00\">35</span>,     │             <span style=\"color: #00af00; text-decoration-color: #00af00\">0</span> │\n",
       "│                                 │ <span style=\"color: #00af00; text-decoration-color: #00af00\">256</span>)                   │               │\n",
       "├─────────────────────────────────┼────────────────────────┼───────────────┤\n",
       "│ conv3d_14 (<span style=\"color: #0087ff; text-decoration-color: #0087ff\">Conv3D</span>)              │ (<span style=\"color: #00d7ff; text-decoration-color: #00d7ff\">None</span>, <span style=\"color: #00af00; text-decoration-color: #00af00\">75</span>, <span style=\"color: #00af00; text-decoration-color: #00af00\">11</span>, <span style=\"color: #00af00; text-decoration-color: #00af00\">35</span>, <span style=\"color: #00af00; text-decoration-color: #00af00\">75</span>) │       <span style=\"color: #00af00; text-decoration-color: #00af00\">518,475</span> │\n",
       "├─────────────────────────────────┼────────────────────────┼───────────────┤\n",
       "│ activation_14 (<span style=\"color: #0087ff; text-decoration-color: #0087ff\">Activation</span>)      │ (<span style=\"color: #00d7ff; text-decoration-color: #00d7ff\">None</span>, <span style=\"color: #00af00; text-decoration-color: #00af00\">75</span>, <span style=\"color: #00af00; text-decoration-color: #00af00\">11</span>, <span style=\"color: #00af00; text-decoration-color: #00af00\">35</span>, <span style=\"color: #00af00; text-decoration-color: #00af00\">75</span>) │             <span style=\"color: #00af00; text-decoration-color: #00af00\">0</span> │\n",
       "├─────────────────────────────────┼────────────────────────┼───────────────┤\n",
       "│ max_pooling3d_14 (<span style=\"color: #0087ff; text-decoration-color: #0087ff\">MaxPooling3D</span>) │ (<span style=\"color: #00d7ff; text-decoration-color: #00d7ff\">None</span>, <span style=\"color: #00af00; text-decoration-color: #00af00\">75</span>, <span style=\"color: #00af00; text-decoration-color: #00af00\">5</span>, <span style=\"color: #00af00; text-decoration-color: #00af00\">17</span>, <span style=\"color: #00af00; text-decoration-color: #00af00\">75</span>)  │             <span style=\"color: #00af00; text-decoration-color: #00af00\">0</span> │\n",
       "├─────────────────────────────────┼────────────────────────┼───────────────┤\n",
       "│ time_distributed_4              │ (<span style=\"color: #00d7ff; text-decoration-color: #00d7ff\">None</span>, <span style=\"color: #00af00; text-decoration-color: #00af00\">75</span>, <span style=\"color: #00af00; text-decoration-color: #00af00\">6375</span>)       │             <span style=\"color: #00af00; text-decoration-color: #00af00\">0</span> │\n",
       "│ (<span style=\"color: #0087ff; text-decoration-color: #0087ff\">TimeDistributed</span>)               │                        │               │\n",
       "├─────────────────────────────────┼────────────────────────┼───────────────┤\n",
       "│ bidirectional_8 (<span style=\"color: #0087ff; text-decoration-color: #0087ff\">Bidirectional</span>) │ (<span style=\"color: #00d7ff; text-decoration-color: #00d7ff\">None</span>, <span style=\"color: #00af00; text-decoration-color: #00af00\">75</span>, <span style=\"color: #00af00; text-decoration-color: #00af00\">256</span>)        │     <span style=\"color: #00af00; text-decoration-color: #00af00\">6,660,096</span> │\n",
       "├─────────────────────────────────┼────────────────────────┼───────────────┤\n",
       "│ dropout_8 (<span style=\"color: #0087ff; text-decoration-color: #0087ff\">Dropout</span>)             │ (<span style=\"color: #00d7ff; text-decoration-color: #00d7ff\">None</span>, <span style=\"color: #00af00; text-decoration-color: #00af00\">75</span>, <span style=\"color: #00af00; text-decoration-color: #00af00\">256</span>)        │             <span style=\"color: #00af00; text-decoration-color: #00af00\">0</span> │\n",
       "├─────────────────────────────────┼────────────────────────┼───────────────┤\n",
       "│ bidirectional_9 (<span style=\"color: #0087ff; text-decoration-color: #0087ff\">Bidirectional</span>) │ (<span style=\"color: #00d7ff; text-decoration-color: #00d7ff\">None</span>, <span style=\"color: #00af00; text-decoration-color: #00af00\">75</span>, <span style=\"color: #00af00; text-decoration-color: #00af00\">256</span>)        │       <span style=\"color: #00af00; text-decoration-color: #00af00\">394,240</span> │\n",
       "├─────────────────────────────────┼────────────────────────┼───────────────┤\n",
       "│ dropout_9 (<span style=\"color: #0087ff; text-decoration-color: #0087ff\">Dropout</span>)             │ (<span style=\"color: #00d7ff; text-decoration-color: #00d7ff\">None</span>, <span style=\"color: #00af00; text-decoration-color: #00af00\">75</span>, <span style=\"color: #00af00; text-decoration-color: #00af00\">256</span>)        │             <span style=\"color: #00af00; text-decoration-color: #00af00\">0</span> │\n",
       "├─────────────────────────────────┼────────────────────────┼───────────────┤\n",
       "│ dense_4 (<span style=\"color: #0087ff; text-decoration-color: #0087ff\">Dense</span>)                 │ (<span style=\"color: #00d7ff; text-decoration-color: #00d7ff\">None</span>, <span style=\"color: #00af00; text-decoration-color: #00af00\">75</span>, <span style=\"color: #00af00; text-decoration-color: #00af00\">41</span>)         │        <span style=\"color: #00af00; text-decoration-color: #00af00\">10,537</span> │\n",
       "└─────────────────────────────────┴────────────────────────┴───────────────┘\n",
       "</pre>\n"
      ]
     },
     "metadata": {},
     "output_type": "display_data"
    },
    {
     "data": {
      "text/plain": [
       "\u001B[1m Total params: \u001B[0m\u001B[38;5;34m8,471,924\u001B[0m (32.32 MB)\n"
      ],
      "text/html": [
       "<pre style=\"white-space:pre;overflow-x:auto;line-height:normal;font-family:Menlo,'DejaVu Sans Mono',consolas,'Courier New',monospace\"><span style=\"font-weight: bold\"> Total params: </span><span style=\"color: #00af00; text-decoration-color: #00af00\">8,471,924</span> (32.32 MB)\n",
       "</pre>\n"
      ]
     },
     "metadata": {},
     "output_type": "display_data"
    },
    {
     "data": {
      "text/plain": [
       "\u001B[1m Trainable params: \u001B[0m\u001B[38;5;34m8,471,924\u001B[0m (32.32 MB)\n"
      ],
      "text/html": [
       "<pre style=\"white-space:pre;overflow-x:auto;line-height:normal;font-family:Menlo,'DejaVu Sans Mono',consolas,'Courier New',monospace\"><span style=\"font-weight: bold\"> Trainable params: </span><span style=\"color: #00af00; text-decoration-color: #00af00\">8,471,924</span> (32.32 MB)\n",
       "</pre>\n"
      ]
     },
     "metadata": {},
     "output_type": "display_data"
    },
    {
     "data": {
      "text/plain": [
       "\u001B[1m Non-trainable params: \u001B[0m\u001B[38;5;34m0\u001B[0m (0.00 B)\n"
      ],
      "text/html": [
       "<pre style=\"white-space:pre;overflow-x:auto;line-height:normal;font-family:Menlo,'DejaVu Sans Mono',consolas,'Courier New',monospace\"><span style=\"font-weight: bold\"> Non-trainable params: </span><span style=\"color: #00af00; text-decoration-color: #00af00\">0</span> (0.00 B)\n",
       "</pre>\n"
      ]
     },
     "metadata": {},
     "output_type": "display_data"
    }
   ],
   "execution_count": 115
  },
  {
   "metadata": {
    "ExecuteTime": {
     "end_time": "2024-08-05T05:52:12.297418Z",
     "start_time": "2024-08-05T05:52:10.593509Z"
    }
   },
   "cell_type": "code",
   "source": "yhat = model.predict(val[0])",
   "id": "867ff15051f22791",
   "outputs": [
    {
     "name": "stdout",
     "output_type": "stream",
     "text": [
      "\u001B[1m1/1\u001B[0m \u001B[32m━━━━━━━━━━━━━━━━━━━━\u001B[0m\u001B[37m\u001B[0m \u001B[1m2s\u001B[0m 2s/step\n"
     ]
    }
   ],
   "execution_count": 116
  },
  {
   "metadata": {
    "ExecuteTime": {
     "end_time": "2024-08-05T05:52:12.342353Z",
     "start_time": "2024-08-05T05:52:12.297418Z"
    }
   },
   "cell_type": "code",
   "source": "tf.strings.reduce_join([num_to_char(x) for x in tf.argmax(yhat[0],axis=1)])",
   "id": "d2487a586945d6cc",
   "outputs": [
    {
     "data": {
      "text/plain": [
       "<tf.Tensor: shape=(), dtype=string, numpy=b'6tccccssssssssssccccccsssssssssssssssssssssssssssssssssssssssssssssssssssls'>"
      ]
     },
     "execution_count": 117,
     "metadata": {},
     "output_type": "execute_result"
    }
   ],
   "execution_count": 117
  },
  {
   "metadata": {
    "ExecuteTime": {
     "end_time": "2024-08-05T05:52:12.377204Z",
     "start_time": "2024-08-05T05:52:12.342353Z"
    }
   },
   "cell_type": "code",
   "source": "tf.strings.reduce_join([num_to_char(tf.argmax(x)) for x in yhat[0]])",
   "id": "1b43abdfb2a81442",
   "outputs": [
    {
     "data": {
      "text/plain": [
       "<tf.Tensor: shape=(), dtype=string, numpy=b'6tccccssssssssssccccccsssssssssssssssssssssssssssssssssssssssssssssssssssls'>"
      ]
     },
     "execution_count": 118,
     "metadata": {},
     "output_type": "execute_result"
    }
   ],
   "execution_count": 118
  },
  {
   "metadata": {
    "ExecuteTime": {
     "end_time": "2024-08-05T05:52:12.382170Z",
     "start_time": "2024-08-05T05:52:12.378212Z"
    }
   },
   "cell_type": "code",
   "source": "model.input_shape, model.output_shape",
   "id": "69f0a856cd8456b4",
   "outputs": [
    {
     "data": {
      "text/plain": [
       "((None, 75, 46, 140, 1), (None, 75, 41))"
      ]
     },
     "execution_count": 119,
     "metadata": {},
     "output_type": "execute_result"
    }
   ],
   "execution_count": 119
  },
  {
   "metadata": {
    "ExecuteTime": {
     "end_time": "2024-08-05T05:52:12.396717Z",
     "start_time": "2024-08-05T05:52:12.383176Z"
    }
   },
   "cell_type": "code",
   "source": "tf.argmax(yhat[0], axis=1)",
   "id": "b7959b255071cf51",
   "outputs": [
    {
     "data": {
      "text/plain": [
       "<tf.Tensor: shape=(75,), dtype=int64, numpy=\n",
       "array([35, 20,  3,  3,  3,  3, 19, 19, 19, 19, 19, 19, 19, 19, 19, 19,  3,\n",
       "        3,  3,  3,  3,  3, 19, 19, 19, 19, 19, 19, 19, 19, 19, 19, 19, 19,\n",
       "       19, 19, 19, 19, 19, 19, 19, 19, 19, 19, 19, 19, 19, 19, 19, 19, 19,\n",
       "       19, 19, 19, 19, 19, 19, 19, 19, 19, 19, 19, 19, 19, 19, 19, 19, 19,\n",
       "       19, 19, 19, 19, 19, 12, 19], dtype=int64)>"
      ]
     },
     "execution_count": 120,
     "metadata": {},
     "output_type": "execute_result"
    }
   ],
   "execution_count": 120
  },
  {
   "metadata": {},
   "cell_type": "markdown",
   "source": "## 4. Setup train options and train",
   "id": "84af7ee2f2f8de60"
  },
  {
   "metadata": {
    "ExecuteTime": {
     "end_time": "2024-08-05T05:52:12.408574Z",
     "start_time": "2024-08-05T05:52:12.396717Z"
    }
   },
   "cell_type": "code",
   "source": [
    "def scheduler(epoch, lr):\n",
    "    if epoch < 30:\n",
    "        return lr\n",
    "    else:\n",
    "        return lr * tf.math.exp(-0.1)"
   ],
   "id": "6502e5779709f8b2",
   "outputs": [],
   "execution_count": 121
  },
  {
   "metadata": {
    "ExecuteTime": {
     "end_time": "2024-08-05T05:52:12.419728Z",
     "start_time": "2024-08-05T05:52:12.408574Z"
    }
   },
   "cell_type": "code",
   "source": [
    "def CTCLoss(y_true, y_pred):\n",
    "    batch_len = tf.cast(tf.shape(y_true)[0], dtype=\"int64\")\n",
    "    input_length = tf.cast(tf.shape(y_pred)[1], dtype=\"int64\")\n",
    "    label_length = tf.cast(tf.shape(y_true)[1], dtype=\"int64\")\n",
    "\n",
    "    input_length = input_length * tf.ones(shape=(batch_len, 1), dtype=\"int64\")\n",
    "    label_length = label_length * tf.ones(shape=(batch_len, 1), dtype=\"int64\")\n",
    "\n",
    "    loss = tf.keras.backend.ctc_batch_cost(y_true, y_pred, input_length, label_length)\n",
    "    return loss"
   ],
   "id": "840c8894181ae405",
   "outputs": [],
   "execution_count": 122
  },
  {
   "metadata": {
    "ExecuteTime": {
     "end_time": "2024-08-05T05:52:12.432983Z",
     "start_time": "2024-08-05T05:52:12.419728Z"
    }
   },
   "cell_type": "code",
   "source": [
    "class ProduceExample(tf.keras.callbacks.Callback): \n",
    "    def __init__(self, dataset): \n",
    "        self.dataset = dataset.as_numpy_iterator()\n",
    "    \n",
    "    def on_epoch_end(self, epoch, logs=None):\n",
    "        data = self.dataset.next()\n",
    "        y_hat = self.model.predict(data[0])\n",
    "        decoded = tf.keras.backend.ctc_decode(y_hat, [75,75], greedy=False)[0][0].numpy()\n",
    "        for x in range(len(y_hat)):           \n",
    "            print('Original:', tf.strings.reduce_join(num_to_char(data[1][x])).numpy().decode('utf-8'))\n",
    "            print('Prediction:', tf.strings.reduce_join(num_to_char(decoded[x])).numpy().decode('utf-8'))\n",
    "            print('~'*100)"
   ],
   "id": "8d5cb0d4260846fe",
   "outputs": [],
   "execution_count": 123
  },
  {
   "metadata": {
    "ExecuteTime": {
     "end_time": "2024-08-05T05:52:12.448662Z",
     "start_time": "2024-08-05T05:52:12.432983Z"
    }
   },
   "cell_type": "code",
   "source": "model.compile(optimizer=Adam(learning_rate=0.0001), loss=CTCLoss)",
   "id": "eac30047d0b1b9b2",
   "outputs": [],
   "execution_count": 124
  },
  {
   "metadata": {
    "ExecuteTime": {
     "end_time": "2024-08-05T05:52:12.457042Z",
     "start_time": "2024-08-05T05:52:12.448662Z"
    }
   },
   "cell_type": "code",
   "source": "checkpoint_callback = ModelCheckpoint(os.path.join('models','checkpoint','best.weights.h5'), monitor='loss', save_weights_only=True) ",
   "id": "2ae1f3007268a1a6",
   "outputs": [],
   "execution_count": 125
  },
  {
   "metadata": {
    "ExecuteTime": {
     "end_time": "2024-08-05T05:52:12.470503Z",
     "start_time": "2024-08-05T05:52:12.457042Z"
    }
   },
   "cell_type": "code",
   "source": "schedule_callback = LearningRateScheduler(scheduler)",
   "id": "d2e3d792c583fb5c",
   "outputs": [],
   "execution_count": 126
  },
  {
   "metadata": {
    "ExecuteTime": {
     "end_time": "2024-08-05T05:52:12.492991Z",
     "start_time": "2024-08-05T05:52:12.470503Z"
    }
   },
   "cell_type": "code",
   "source": "example_callback = ProduceExample(test)",
   "id": "7179b804b79940c2",
   "outputs": [],
   "execution_count": 127
  },
  {
   "metadata": {
    "ExecuteTime": {
     "end_time": "2024-08-05T05:52:22.246683Z",
     "start_time": "2024-08-05T05:52:12.492991Z"
    }
   },
   "cell_type": "code",
   "source": "model.fit(train, epochs=100, callbacks=[checkpoint_callback, schedule_callback, example_callback])",
   "id": "1889647d177e0cb4",
   "outputs": [
    {
     "name": "stdout",
     "output_type": "stream",
     "text": [
      "Epoch 1/100\n"
     ]
    },
    {
     "ename": "InvalidArgumentError",
     "evalue": "Graph execution error:\n\nDetected at node sequential_4_1/time_distributed_4_1/Reshape_44 defined at (most recent call last):\n  File \"<frozen runpy>\", line 198, in _run_module_as_main\n\n  File \"<frozen runpy>\", line 88, in _run_code\n\n  File \"C:\\ProgramData\\miniforge3\\envs\\Lipformer\\Lib\\site-packages\\ipykernel_launcher.py\", line 18, in <module>\n\n  File \"C:\\ProgramData\\miniforge3\\envs\\Lipformer\\Lib\\site-packages\\traitlets\\config\\application.py\", line 1075, in launch_instance\n\n  File \"C:\\ProgramData\\miniforge3\\envs\\Lipformer\\Lib\\site-packages\\ipykernel\\kernelapp.py\", line 739, in start\n\n  File \"C:\\ProgramData\\miniforge3\\envs\\Lipformer\\Lib\\site-packages\\tornado\\platform\\asyncio.py\", line 205, in start\n\n  File \"C:\\ProgramData\\miniforge3\\envs\\Lipformer\\Lib\\asyncio\\base_events.py\", line 641, in run_forever\n\n  File \"C:\\ProgramData\\miniforge3\\envs\\Lipformer\\Lib\\asyncio\\base_events.py\", line 1987, in _run_once\n\n  File \"C:\\ProgramData\\miniforge3\\envs\\Lipformer\\Lib\\asyncio\\events.py\", line 88, in _run\n\n  File \"C:\\ProgramData\\miniforge3\\envs\\Lipformer\\Lib\\site-packages\\ipykernel\\kernelbase.py\", line 545, in dispatch_queue\n\n  File \"C:\\ProgramData\\miniforge3\\envs\\Lipformer\\Lib\\site-packages\\ipykernel\\kernelbase.py\", line 534, in process_one\n\n  File \"C:\\ProgramData\\miniforge3\\envs\\Lipformer\\Lib\\site-packages\\ipykernel\\kernelbase.py\", line 437, in dispatch_shell\n\n  File \"C:\\ProgramData\\miniforge3\\envs\\Lipformer\\Lib\\site-packages\\ipykernel\\ipkernel.py\", line 362, in execute_request\n\n  File \"C:\\ProgramData\\miniforge3\\envs\\Lipformer\\Lib\\site-packages\\ipykernel\\kernelbase.py\", line 778, in execute_request\n\n  File \"C:\\ProgramData\\miniforge3\\envs\\Lipformer\\Lib\\site-packages\\ipykernel\\ipkernel.py\", line 449, in do_execute\n\n  File \"C:\\ProgramData\\miniforge3\\envs\\Lipformer\\Lib\\site-packages\\ipykernel\\zmqshell.py\", line 549, in run_cell\n\n  File \"C:\\ProgramData\\miniforge3\\envs\\Lipformer\\Lib\\site-packages\\IPython\\core\\interactiveshell.py\", line 3075, in run_cell\n\n  File \"C:\\ProgramData\\miniforge3\\envs\\Lipformer\\Lib\\site-packages\\IPython\\core\\interactiveshell.py\", line 3130, in _run_cell\n\n  File \"C:\\ProgramData\\miniforge3\\envs\\Lipformer\\Lib\\site-packages\\IPython\\core\\async_helpers.py\", line 128, in _pseudo_sync_runner\n\n  File \"C:\\ProgramData\\miniforge3\\envs\\Lipformer\\Lib\\site-packages\\IPython\\core\\interactiveshell.py\", line 3334, in run_cell_async\n\n  File \"C:\\ProgramData\\miniforge3\\envs\\Lipformer\\Lib\\site-packages\\IPython\\core\\interactiveshell.py\", line 3517, in run_ast_nodes\n\n  File \"C:\\ProgramData\\miniforge3\\envs\\Lipformer\\Lib\\site-packages\\IPython\\core\\interactiveshell.py\", line 3577, in run_code\n\n  File \"C:\\Users\\Admin\\AppData\\Local\\Temp\\ipykernel_3088\\3415205312.py\", line 1, in <module>\n\n  File \"C:\\ProgramData\\miniforge3\\envs\\Lipformer\\Lib\\site-packages\\keras\\src\\utils\\traceback_utils.py\", line 117, in error_handler\n\n  File \"C:\\ProgramData\\miniforge3\\envs\\Lipformer\\Lib\\site-packages\\keras\\src\\backend\\tensorflow\\trainer.py\", line 318, in fit\n\n  File \"C:\\ProgramData\\miniforge3\\envs\\Lipformer\\Lib\\site-packages\\keras\\src\\backend\\tensorflow\\trainer.py\", line 121, in one_step_on_iterator\n\n  File \"C:\\ProgramData\\miniforge3\\envs\\Lipformer\\Lib\\site-packages\\keras\\src\\backend\\tensorflow\\trainer.py\", line 108, in one_step_on_data\n\n  File \"C:\\ProgramData\\miniforge3\\envs\\Lipformer\\Lib\\site-packages\\keras\\src\\backend\\tensorflow\\trainer.py\", line 51, in train_step\n\n  File \"C:\\ProgramData\\miniforge3\\envs\\Lipformer\\Lib\\site-packages\\keras\\src\\utils\\traceback_utils.py\", line 117, in error_handler\n\n  File \"C:\\ProgramData\\miniforge3\\envs\\Lipformer\\Lib\\site-packages\\keras\\src\\layers\\layer.py\", line 882, in __call__\n\n  File \"C:\\ProgramData\\miniforge3\\envs\\Lipformer\\Lib\\site-packages\\keras\\src\\utils\\traceback_utils.py\", line 117, in error_handler\n\n  File \"C:\\ProgramData\\miniforge3\\envs\\Lipformer\\Lib\\site-packages\\keras\\src\\ops\\operation.py\", line 46, in __call__\n\n  File \"C:\\ProgramData\\miniforge3\\envs\\Lipformer\\Lib\\site-packages\\keras\\src\\utils\\traceback_utils.py\", line 156, in error_handler\n\n  File \"C:\\ProgramData\\miniforge3\\envs\\Lipformer\\Lib\\site-packages\\keras\\src\\models\\sequential.py\", line 209, in call\n\n  File \"C:\\ProgramData\\miniforge3\\envs\\Lipformer\\Lib\\site-packages\\keras\\src\\models\\functional.py\", line 175, in call\n\n  File \"C:\\ProgramData\\miniforge3\\envs\\Lipformer\\Lib\\site-packages\\keras\\src\\ops\\function.py\", line 171, in _run_through_graph\n\n  File \"C:\\ProgramData\\miniforge3\\envs\\Lipformer\\Lib\\site-packages\\keras\\src\\models\\functional.py\", line 556, in call\n\n  File \"C:\\ProgramData\\miniforge3\\envs\\Lipformer\\Lib\\site-packages\\keras\\src\\utils\\traceback_utils.py\", line 117, in error_handler\n\n  File \"C:\\ProgramData\\miniforge3\\envs\\Lipformer\\Lib\\site-packages\\keras\\src\\layers\\layer.py\", line 882, in __call__\n\n  File \"C:\\ProgramData\\miniforge3\\envs\\Lipformer\\Lib\\site-packages\\keras\\src\\utils\\traceback_utils.py\", line 117, in error_handler\n\n  File \"C:\\ProgramData\\miniforge3\\envs\\Lipformer\\Lib\\site-packages\\keras\\src\\ops\\operation.py\", line 46, in __call__\n\n  File \"C:\\ProgramData\\miniforge3\\envs\\Lipformer\\Lib\\site-packages\\keras\\src\\utils\\traceback_utils.py\", line 156, in error_handler\n\n  File \"C:\\ProgramData\\miniforge3\\envs\\Lipformer\\Lib\\site-packages\\keras\\src\\layers\\rnn\\time_distributed.py\", line 108, in call\n\n  File \"C:\\ProgramData\\miniforge3\\envs\\Lipformer\\Lib\\site-packages\\keras\\src\\layers\\rnn\\time_distributed.py\", line 102, in step_function\n\n  File \"C:\\ProgramData\\miniforge3\\envs\\Lipformer\\Lib\\site-packages\\keras\\src\\layers\\reshaping\\flatten.py\", line 54, in call\n\n  File \"C:\\ProgramData\\miniforge3\\envs\\Lipformer\\Lib\\site-packages\\keras\\src\\ops\\numpy.py\", line 4440, in reshape\n\n  File \"C:\\ProgramData\\miniforge3\\envs\\Lipformer\\Lib\\site-packages\\keras\\src\\backend\\tensorflow\\numpy.py\", line 1789, in reshape\n\nOnly one input size may be -1, not both 0 and 1\n\t [[{{node sequential_4_1/time_distributed_4_1/Reshape_44}}]] [Op:__inference_one_step_on_iterator_127500]",
     "output_type": "error",
     "traceback": [
      "\u001B[1;31m---------------------------------------------------------------------------\u001B[0m",
      "\u001B[1;31mInvalidArgumentError\u001B[0m                      Traceback (most recent call last)",
      "Cell \u001B[1;32mIn[128], line 1\u001B[0m\n\u001B[1;32m----> 1\u001B[0m \u001B[43mmodel\u001B[49m\u001B[38;5;241;43m.\u001B[39;49m\u001B[43mfit\u001B[49m\u001B[43m(\u001B[49m\u001B[43mtrain\u001B[49m\u001B[43m,\u001B[49m\u001B[43m \u001B[49m\u001B[43mepochs\u001B[49m\u001B[38;5;241;43m=\u001B[39;49m\u001B[38;5;241;43m100\u001B[39;49m\u001B[43m,\u001B[49m\u001B[43m \u001B[49m\u001B[43mcallbacks\u001B[49m\u001B[38;5;241;43m=\u001B[39;49m\u001B[43m[\u001B[49m\u001B[43mcheckpoint_callback\u001B[49m\u001B[43m,\u001B[49m\u001B[43m \u001B[49m\u001B[43mschedule_callback\u001B[49m\u001B[43m,\u001B[49m\u001B[43m \u001B[49m\u001B[43mexample_callback\u001B[49m\u001B[43m]\u001B[49m\u001B[43m)\u001B[49m\n",
      "File \u001B[1;32mC:\\ProgramData\\miniforge3\\envs\\Lipformer\\Lib\\site-packages\\keras\\src\\utils\\traceback_utils.py:122\u001B[0m, in \u001B[0;36mfilter_traceback.<locals>.error_handler\u001B[1;34m(*args, **kwargs)\u001B[0m\n\u001B[0;32m    119\u001B[0m     filtered_tb \u001B[38;5;241m=\u001B[39m _process_traceback_frames(e\u001B[38;5;241m.\u001B[39m__traceback__)\n\u001B[0;32m    120\u001B[0m     \u001B[38;5;66;03m# To get the full stack trace, call:\u001B[39;00m\n\u001B[0;32m    121\u001B[0m     \u001B[38;5;66;03m# `keras.config.disable_traceback_filtering()`\u001B[39;00m\n\u001B[1;32m--> 122\u001B[0m     \u001B[38;5;28;01mraise\u001B[39;00m e\u001B[38;5;241m.\u001B[39mwith_traceback(filtered_tb) \u001B[38;5;28;01mfrom\u001B[39;00m \u001B[38;5;28;01mNone\u001B[39;00m\n\u001B[0;32m    123\u001B[0m \u001B[38;5;28;01mfinally\u001B[39;00m:\n\u001B[0;32m    124\u001B[0m     \u001B[38;5;28;01mdel\u001B[39;00m filtered_tb\n",
      "File \u001B[1;32mC:\\ProgramData\\miniforge3\\envs\\Lipformer\\Lib\\site-packages\\tensorflow\\python\\eager\\execute.py:53\u001B[0m, in \u001B[0;36mquick_execute\u001B[1;34m(op_name, num_outputs, inputs, attrs, ctx, name)\u001B[0m\n\u001B[0;32m     51\u001B[0m \u001B[38;5;28;01mtry\u001B[39;00m:\n\u001B[0;32m     52\u001B[0m   ctx\u001B[38;5;241m.\u001B[39mensure_initialized()\n\u001B[1;32m---> 53\u001B[0m   tensors \u001B[38;5;241m=\u001B[39m pywrap_tfe\u001B[38;5;241m.\u001B[39mTFE_Py_Execute(ctx\u001B[38;5;241m.\u001B[39m_handle, device_name, op_name,\n\u001B[0;32m     54\u001B[0m                                       inputs, attrs, num_outputs)\n\u001B[0;32m     55\u001B[0m \u001B[38;5;28;01mexcept\u001B[39;00m core\u001B[38;5;241m.\u001B[39m_NotOkStatusException \u001B[38;5;28;01mas\u001B[39;00m e:\n\u001B[0;32m     56\u001B[0m   \u001B[38;5;28;01mif\u001B[39;00m name \u001B[38;5;129;01mis\u001B[39;00m \u001B[38;5;129;01mnot\u001B[39;00m \u001B[38;5;28;01mNone\u001B[39;00m:\n",
      "\u001B[1;31mInvalidArgumentError\u001B[0m: Graph execution error:\n\nDetected at node sequential_4_1/time_distributed_4_1/Reshape_44 defined at (most recent call last):\n  File \"<frozen runpy>\", line 198, in _run_module_as_main\n\n  File \"<frozen runpy>\", line 88, in _run_code\n\n  File \"C:\\ProgramData\\miniforge3\\envs\\Lipformer\\Lib\\site-packages\\ipykernel_launcher.py\", line 18, in <module>\n\n  File \"C:\\ProgramData\\miniforge3\\envs\\Lipformer\\Lib\\site-packages\\traitlets\\config\\application.py\", line 1075, in launch_instance\n\n  File \"C:\\ProgramData\\miniforge3\\envs\\Lipformer\\Lib\\site-packages\\ipykernel\\kernelapp.py\", line 739, in start\n\n  File \"C:\\ProgramData\\miniforge3\\envs\\Lipformer\\Lib\\site-packages\\tornado\\platform\\asyncio.py\", line 205, in start\n\n  File \"C:\\ProgramData\\miniforge3\\envs\\Lipformer\\Lib\\asyncio\\base_events.py\", line 641, in run_forever\n\n  File \"C:\\ProgramData\\miniforge3\\envs\\Lipformer\\Lib\\asyncio\\base_events.py\", line 1987, in _run_once\n\n  File \"C:\\ProgramData\\miniforge3\\envs\\Lipformer\\Lib\\asyncio\\events.py\", line 88, in _run\n\n  File \"C:\\ProgramData\\miniforge3\\envs\\Lipformer\\Lib\\site-packages\\ipykernel\\kernelbase.py\", line 545, in dispatch_queue\n\n  File \"C:\\ProgramData\\miniforge3\\envs\\Lipformer\\Lib\\site-packages\\ipykernel\\kernelbase.py\", line 534, in process_one\n\n  File \"C:\\ProgramData\\miniforge3\\envs\\Lipformer\\Lib\\site-packages\\ipykernel\\kernelbase.py\", line 437, in dispatch_shell\n\n  File \"C:\\ProgramData\\miniforge3\\envs\\Lipformer\\Lib\\site-packages\\ipykernel\\ipkernel.py\", line 362, in execute_request\n\n  File \"C:\\ProgramData\\miniforge3\\envs\\Lipformer\\Lib\\site-packages\\ipykernel\\kernelbase.py\", line 778, in execute_request\n\n  File \"C:\\ProgramData\\miniforge3\\envs\\Lipformer\\Lib\\site-packages\\ipykernel\\ipkernel.py\", line 449, in do_execute\n\n  File \"C:\\ProgramData\\miniforge3\\envs\\Lipformer\\Lib\\site-packages\\ipykernel\\zmqshell.py\", line 549, in run_cell\n\n  File \"C:\\ProgramData\\miniforge3\\envs\\Lipformer\\Lib\\site-packages\\IPython\\core\\interactiveshell.py\", line 3075, in run_cell\n\n  File \"C:\\ProgramData\\miniforge3\\envs\\Lipformer\\Lib\\site-packages\\IPython\\core\\interactiveshell.py\", line 3130, in _run_cell\n\n  File \"C:\\ProgramData\\miniforge3\\envs\\Lipformer\\Lib\\site-packages\\IPython\\core\\async_helpers.py\", line 128, in _pseudo_sync_runner\n\n  File \"C:\\ProgramData\\miniforge3\\envs\\Lipformer\\Lib\\site-packages\\IPython\\core\\interactiveshell.py\", line 3334, in run_cell_async\n\n  File \"C:\\ProgramData\\miniforge3\\envs\\Lipformer\\Lib\\site-packages\\IPython\\core\\interactiveshell.py\", line 3517, in run_ast_nodes\n\n  File \"C:\\ProgramData\\miniforge3\\envs\\Lipformer\\Lib\\site-packages\\IPython\\core\\interactiveshell.py\", line 3577, in run_code\n\n  File \"C:\\Users\\Admin\\AppData\\Local\\Temp\\ipykernel_3088\\3415205312.py\", line 1, in <module>\n\n  File \"C:\\ProgramData\\miniforge3\\envs\\Lipformer\\Lib\\site-packages\\keras\\src\\utils\\traceback_utils.py\", line 117, in error_handler\n\n  File \"C:\\ProgramData\\miniforge3\\envs\\Lipformer\\Lib\\site-packages\\keras\\src\\backend\\tensorflow\\trainer.py\", line 318, in fit\n\n  File \"C:\\ProgramData\\miniforge3\\envs\\Lipformer\\Lib\\site-packages\\keras\\src\\backend\\tensorflow\\trainer.py\", line 121, in one_step_on_iterator\n\n  File \"C:\\ProgramData\\miniforge3\\envs\\Lipformer\\Lib\\site-packages\\keras\\src\\backend\\tensorflow\\trainer.py\", line 108, in one_step_on_data\n\n  File \"C:\\ProgramData\\miniforge3\\envs\\Lipformer\\Lib\\site-packages\\keras\\src\\backend\\tensorflow\\trainer.py\", line 51, in train_step\n\n  File \"C:\\ProgramData\\miniforge3\\envs\\Lipformer\\Lib\\site-packages\\keras\\src\\utils\\traceback_utils.py\", line 117, in error_handler\n\n  File \"C:\\ProgramData\\miniforge3\\envs\\Lipformer\\Lib\\site-packages\\keras\\src\\layers\\layer.py\", line 882, in __call__\n\n  File \"C:\\ProgramData\\miniforge3\\envs\\Lipformer\\Lib\\site-packages\\keras\\src\\utils\\traceback_utils.py\", line 117, in error_handler\n\n  File \"C:\\ProgramData\\miniforge3\\envs\\Lipformer\\Lib\\site-packages\\keras\\src\\ops\\operation.py\", line 46, in __call__\n\n  File \"C:\\ProgramData\\miniforge3\\envs\\Lipformer\\Lib\\site-packages\\keras\\src\\utils\\traceback_utils.py\", line 156, in error_handler\n\n  File \"C:\\ProgramData\\miniforge3\\envs\\Lipformer\\Lib\\site-packages\\keras\\src\\models\\sequential.py\", line 209, in call\n\n  File \"C:\\ProgramData\\miniforge3\\envs\\Lipformer\\Lib\\site-packages\\keras\\src\\models\\functional.py\", line 175, in call\n\n  File \"C:\\ProgramData\\miniforge3\\envs\\Lipformer\\Lib\\site-packages\\keras\\src\\ops\\function.py\", line 171, in _run_through_graph\n\n  File \"C:\\ProgramData\\miniforge3\\envs\\Lipformer\\Lib\\site-packages\\keras\\src\\models\\functional.py\", line 556, in call\n\n  File \"C:\\ProgramData\\miniforge3\\envs\\Lipformer\\Lib\\site-packages\\keras\\src\\utils\\traceback_utils.py\", line 117, in error_handler\n\n  File \"C:\\ProgramData\\miniforge3\\envs\\Lipformer\\Lib\\site-packages\\keras\\src\\layers\\layer.py\", line 882, in __call__\n\n  File \"C:\\ProgramData\\miniforge3\\envs\\Lipformer\\Lib\\site-packages\\keras\\src\\utils\\traceback_utils.py\", line 117, in error_handler\n\n  File \"C:\\ProgramData\\miniforge3\\envs\\Lipformer\\Lib\\site-packages\\keras\\src\\ops\\operation.py\", line 46, in __call__\n\n  File \"C:\\ProgramData\\miniforge3\\envs\\Lipformer\\Lib\\site-packages\\keras\\src\\utils\\traceback_utils.py\", line 156, in error_handler\n\n  File \"C:\\ProgramData\\miniforge3\\envs\\Lipformer\\Lib\\site-packages\\keras\\src\\layers\\rnn\\time_distributed.py\", line 108, in call\n\n  File \"C:\\ProgramData\\miniforge3\\envs\\Lipformer\\Lib\\site-packages\\keras\\src\\layers\\rnn\\time_distributed.py\", line 102, in step_function\n\n  File \"C:\\ProgramData\\miniforge3\\envs\\Lipformer\\Lib\\site-packages\\keras\\src\\layers\\reshaping\\flatten.py\", line 54, in call\n\n  File \"C:\\ProgramData\\miniforge3\\envs\\Lipformer\\Lib\\site-packages\\keras\\src\\ops\\numpy.py\", line 4440, in reshape\n\n  File \"C:\\ProgramData\\miniforge3\\envs\\Lipformer\\Lib\\site-packages\\keras\\src\\backend\\tensorflow\\numpy.py\", line 1789, in reshape\n\nOnly one input size may be -1, not both 0 and 1\n\t [[{{node sequential_4_1/time_distributed_4_1/Reshape_44}}]] [Op:__inference_one_step_on_iterator_127500]"
     ]
    }
   ],
   "execution_count": 128
  },
  {
   "metadata": {},
   "cell_type": "markdown",
   "source": "## 5. Make prediction",
   "id": "46182769c98b9db6"
  },
  {
   "metadata": {},
   "cell_type": "code",
   "source": [
    "url = 'https://drive.google.com/uc?id=1vWscXs4Vt0a_1IH1-ct2TCgXAZT-N3_Y'\n",
    "output = 'checkpoints.zip'\n",
    "gdown.download(url, output, quiet=False)\n",
    "gdown.extractall('checkpoints.zip', 'models')"
   ],
   "id": "d5e7b1cc4847064",
   "outputs": [],
   "execution_count": null
  },
  {
   "metadata": {},
   "cell_type": "code",
   "source": "model.load_weights('models/checkpoint')",
   "id": "c52c8542edfff842",
   "outputs": [],
   "execution_count": null
  },
  {
   "metadata": {},
   "cell_type": "code",
   "source": "test_data = test.as_numpy_iterator()",
   "id": "e51189f6a31cdaef",
   "outputs": [],
   "execution_count": null
  },
  {
   "metadata": {},
   "cell_type": "code",
   "source": "sample = test_data.next()",
   "id": "5f70031983c7604d",
   "outputs": [],
   "execution_count": null
  },
  {
   "metadata": {},
   "cell_type": "code",
   "source": "yhat = model.predict(sample[0])",
   "id": "f4df7f2ddf99f7fc",
   "outputs": [],
   "execution_count": null
  },
  {
   "metadata": {},
   "cell_type": "code",
   "source": [
    "print('~'*100, 'REAL TEXT')\n",
    "[tf.strings.reduce_join([num_to_char(word) for word in sentence]) for sentence in sample[1]]"
   ],
   "id": "ab64bd14a4bab265",
   "outputs": [],
   "execution_count": null
  },
  {
   "metadata": {},
   "cell_type": "code",
   "source": "decoded = tf.keras.backend.ctc_decode(yhat, input_length=[75,75], greedy=True)[0][0].numpy()",
   "id": "e1d3d46a886a530d",
   "outputs": [],
   "execution_count": null
  },
  {
   "metadata": {},
   "cell_type": "code",
   "source": [
    "print('~'*100, 'PREDICTIONS')\n",
    "[tf.strings.reduce_join([num_to_char(word) for word in sentence]) for sentence in decoded]"
   ],
   "id": "95cd0a756006db90",
   "outputs": [],
   "execution_count": null
  },
  {
   "metadata": {},
   "cell_type": "markdown",
   "source": "## Test by video",
   "id": "9e9729eb1fe18d13"
  },
  {
   "metadata": {},
   "cell_type": "code",
   "source": "sample = load_data(tf.convert_to_tensor('.\\\\data\\\\s1\\\\bras9a.mpg'))",
   "id": "7440f6387922b662",
   "outputs": [],
   "execution_count": null
  },
  {
   "metadata": {},
   "cell_type": "code",
   "source": [
    "print('~'*100, 'REAL TEXT')\n",
    "[tf.strings.reduce_join([num_to_char(word) for word in sentence]) for sentence in [sample[1]]]"
   ],
   "id": "b3793b290f28e81a",
   "outputs": [],
   "execution_count": null
  },
  {
   "metadata": {},
   "cell_type": "code",
   "source": "yhat = model.predict(tf.expand_dims(sample[0], axis=0))",
   "id": "ea7641c3c7f38d2a",
   "outputs": [],
   "execution_count": null
  },
  {
   "metadata": {},
   "cell_type": "code",
   "source": "decoded = tf.keras.backend.ctc_decode(yhat, input_length=[75], greedy=True)[0][0].numpy()",
   "id": "c06a0d5c1aa532a2",
   "outputs": [],
   "execution_count": null
  },
  {
   "metadata": {},
   "cell_type": "code",
   "source": [
    "print('~'*100, 'PREDICTIONS')\n",
    "[tf.strings.reduce_join([num_to_char(word) for word in sentence]) for sentence in decoded]"
   ],
   "id": "4daa87ca678b6e6",
   "outputs": [],
   "execution_count": null
  }
 ],
 "metadata": {
  "kernelspec": {
   "display_name": "Python 3",
   "language": "python",
   "name": "python3"
  },
  "language_info": {
   "codemirror_mode": {
    "name": "ipython",
    "version": 2
   },
   "file_extension": ".py",
   "mimetype": "text/x-python",
   "name": "python",
   "nbconvert_exporter": "python",
   "pygments_lexer": "ipython2",
   "version": "2.7.6"
  }
 },
 "nbformat": 4,
 "nbformat_minor": 5
}
