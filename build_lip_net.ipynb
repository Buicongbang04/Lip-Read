{
 "cells": [
  {
   "cell_type": "code",
   "id": "initial_id",
   "metadata": {
    "collapsed": true,
    "ExecuteTime": {
     "end_time": "2024-08-05T05:19:27.380387Z",
     "start_time": "2024-08-05T05:19:27.363468Z"
    }
   },
   "source": "# !pip install opencv-python matplotlib imageio gdown tensorflow",
   "outputs": [],
   "execution_count": 1
  },
  {
   "metadata": {
    "ExecuteTime": {
     "end_time": "2024-08-05T05:19:27.392722Z",
     "start_time": "2024-08-05T05:19:27.380387Z"
    }
   },
   "cell_type": "code",
   "source": "# conda install pytorch torchvision torchaudio pytorch-cuda=11.8 -c pytorch -c nvidia",
   "id": "5c0166c2adf0fabd",
   "outputs": [],
   "execution_count": 2
  },
  {
   "metadata": {},
   "cell_type": "markdown",
   "source": "## Config GPU CUDA",
   "id": "b46b3b6d00cb228"
  },
  {
   "metadata": {
    "ExecuteTime": {
     "end_time": "2024-08-05T05:19:29.237968Z",
     "start_time": "2024-08-05T05:19:27.392722Z"
    }
   },
   "cell_type": "code",
   "source": [
    "import torch\n",
    "\n",
    "print(f\"Is CUDA supported by this system? {torch.cuda.is_available()}\")\n",
    "print(f\"CUDA version: {torch.version.cuda}\")\n",
    " \n",
    "# Storing ID of current CUDA device\n",
    "cuda_id = torch.cuda.current_device()\n",
    "print(f\"ID of current CUDA device: {cuda_id}\")\n",
    "       \n",
    "print(f\"Name of current CUDA device: {torch.cuda.get_device_name(cuda_id)}\")"
   ],
   "id": "8b5b306abce43590",
   "outputs": [
    {
     "name": "stdout",
     "output_type": "stream",
     "text": [
      "Is CUDA supported by this system? True\n",
      "CUDA version: 11.8\n",
      "ID of current CUDA device: 0\n",
      "Name of current CUDA device: NVIDIA GeForce RTX 3050 Laptop GPU\n"
     ]
    }
   ],
   "execution_count": 3
  },
  {
   "metadata": {
    "ExecuteTime": {
     "end_time": "2024-08-05T05:19:32.334678Z",
     "start_time": "2024-08-05T05:19:29.237968Z"
    }
   },
   "cell_type": "code",
   "source": [
    "import os\n",
    "import cv2\n",
    "import tensorflow as tf\n",
    "import numpy as np\n",
    "from typing import List\n",
    "from matplotlib import pyplot as plt\n",
    "import imageio"
   ],
   "id": "59bab0aaf70a268",
   "outputs": [],
   "execution_count": 4
  },
  {
   "metadata": {},
   "cell_type": "markdown",
   "source": "## 1. Build Data loading function",
   "id": "bfdc2f2b99d6880"
  },
  {
   "metadata": {
    "ExecuteTime": {
     "end_time": "2024-08-05T05:19:32.406566Z",
     "start_time": "2024-08-05T05:19:32.334795Z"
    }
   },
   "cell_type": "code",
   "source": "import gdown",
   "id": "97b34ada0247986",
   "outputs": [],
   "execution_count": 5
  },
  {
   "metadata": {
    "ExecuteTime": {
     "end_time": "2024-08-05T05:19:32.409810Z",
     "start_time": "2024-08-05T05:19:32.406566Z"
    }
   },
   "cell_type": "code",
   "source": [
    "# url = 'https://drive.google.com/uc?id=1YlvpDLix3S-U8fd-gqRwPcWXAXm8JwjL'\n",
    "# output = 'D:\\\\NCKH\\\\LipFormer\\\\data.zip'\n",
    "# gdown.download(url, output, quiet=False)\n",
    "# gdown.extractall(output)"
   ],
   "id": "df45e5dab8bed648",
   "outputs": [],
   "execution_count": 6
  },
  {
   "metadata": {
    "ExecuteTime": {
     "end_time": "2024-08-05T05:19:32.424728Z",
     "start_time": "2024-08-05T05:19:32.409810Z"
    }
   },
   "cell_type": "code",
   "source": [
    "def load_video(path): \n",
    "\n",
    "    cap = cv2.VideoCapture(path)\n",
    "    frames = []\n",
    "    for _ in range(int(cap.get(cv2.CAP_PROP_FRAME_COUNT))): \n",
    "        ret, frame = cap.read()\n",
    "        frame = tf.image.rgb_to_grayscale(frame)\n",
    "        frames.append(frame[190:236,80:220,:])\n",
    "    cap.release()\n",
    "    \n",
    "    mean = tf.math.reduce_mean(frames)\n",
    "    std = tf.math.reduce_std(tf.cast(frames, tf.float32))\n",
    "    return tf.cast((frames - mean), tf.float32) / std"
   ],
   "id": "d23163c3e8cf4e0f",
   "outputs": [],
   "execution_count": 7
  },
  {
   "metadata": {
    "ExecuteTime": {
     "end_time": "2024-08-05T05:19:32.436617Z",
     "start_time": "2024-08-05T05:19:32.425736Z"
    }
   },
   "cell_type": "code",
   "source": "vocab = [x for x in \"abcdefghijklmnopqrstuvwxyz'?!123456789 \"]",
   "id": "8dd669a4e0bf5e79",
   "outputs": [],
   "execution_count": 8
  },
  {
   "metadata": {
    "ExecuteTime": {
     "end_time": "2024-08-05T05:19:32.497288Z",
     "start_time": "2024-08-05T05:19:32.437633Z"
    }
   },
   "cell_type": "code",
   "source": [
    "char_to_num = tf.keras.layers.StringLookup(vocabulary=vocab, oov_token=\"\")\n",
    "num_to_char = tf.keras.layers.StringLookup(\n",
    "    vocabulary=char_to_num.get_vocabulary(), oov_token=\"\", invert=True\n",
    ")\n",
    "\n",
    "print(\n",
    "    f\"The vocabulary is: {char_to_num.get_vocabulary()} \\n\"\n",
    "    f\"size ={char_to_num.vocabulary_size()}\"\n",
    ")"
   ],
   "id": "a0614635e3ceb73e",
   "outputs": [
    {
     "name": "stdout",
     "output_type": "stream",
     "text": [
      "The vocabulary is: ['', 'a', 'b', 'c', 'd', 'e', 'f', 'g', 'h', 'i', 'j', 'k', 'l', 'm', 'n', 'o', 'p', 'q', 'r', 's', 't', 'u', 'v', 'w', 'x', 'y', 'z', \"'\", '?', '!', '1', '2', '3', '4', '5', '6', '7', '8', '9', ' '] \n",
      "size =40\n"
     ]
    }
   ],
   "execution_count": 9
  },
  {
   "metadata": {
    "ExecuteTime": {
     "end_time": "2024-08-05T05:19:32.504906Z",
     "start_time": "2024-08-05T05:19:32.497288Z"
    }
   },
   "cell_type": "code",
   "source": "char_to_num.get_vocabulary()",
   "id": "763f0b4c365a2126",
   "outputs": [
    {
     "data": {
      "text/plain": [
       "['',\n",
       " 'a',\n",
       " 'b',\n",
       " 'c',\n",
       " 'd',\n",
       " 'e',\n",
       " 'f',\n",
       " 'g',\n",
       " 'h',\n",
       " 'i',\n",
       " 'j',\n",
       " 'k',\n",
       " 'l',\n",
       " 'm',\n",
       " 'n',\n",
       " 'o',\n",
       " 'p',\n",
       " 'q',\n",
       " 'r',\n",
       " 's',\n",
       " 't',\n",
       " 'u',\n",
       " 'v',\n",
       " 'w',\n",
       " 'x',\n",
       " 'y',\n",
       " 'z',\n",
       " \"'\",\n",
       " '?',\n",
       " '!',\n",
       " '1',\n",
       " '2',\n",
       " '3',\n",
       " '4',\n",
       " '5',\n",
       " '6',\n",
       " '7',\n",
       " '8',\n",
       " '9',\n",
       " ' ']"
      ]
     },
     "execution_count": 10,
     "metadata": {},
     "output_type": "execute_result"
    }
   ],
   "execution_count": 10
  },
  {
   "metadata": {
    "ExecuteTime": {
     "end_time": "2024-08-05T05:19:32.522844Z",
     "start_time": "2024-08-05T05:19:32.504906Z"
    }
   },
   "cell_type": "code",
   "source": "char_to_num(['n','i','c','k'])",
   "id": "7cf652bc7748a998",
   "outputs": [
    {
     "data": {
      "text/plain": [
       "<tf.Tensor: shape=(4,), dtype=int64, numpy=array([14,  9,  3, 11], dtype=int64)>"
      ]
     },
     "execution_count": 11,
     "metadata": {},
     "output_type": "execute_result"
    }
   ],
   "execution_count": 11
  },
  {
   "metadata": {
    "ExecuteTime": {
     "end_time": "2024-08-05T05:19:32.534582Z",
     "start_time": "2024-08-05T05:19:32.523847Z"
    }
   },
   "cell_type": "code",
   "source": "num_to_char([14,  9,  3, 11])",
   "id": "f3de3b7ec502bba1",
   "outputs": [
    {
     "data": {
      "text/plain": [
       "<tf.Tensor: shape=(4,), dtype=string, numpy=array([b'n', b'i', b'c', b'k'], dtype=object)>"
      ]
     },
     "execution_count": 12,
     "metadata": {},
     "output_type": "execute_result"
    }
   ],
   "execution_count": 12
  },
  {
   "metadata": {
    "ExecuteTime": {
     "end_time": "2024-08-05T05:19:32.544597Z",
     "start_time": "2024-08-05T05:19:32.536586Z"
    }
   },
   "cell_type": "code",
   "source": [
    "def load_alignments(path:str) -> List[str]: \n",
    "    with open(path, 'r') as f: \n",
    "        lines = f.readlines() \n",
    "    tokens = []\n",
    "    \n",
    "    for line in lines:\n",
    "        line = line.split()\n",
    "        if line[2] != 'sil': \n",
    "            tokens = [*tokens,' ',line[2]]\n",
    "            \n",
    "    return char_to_num(tf.reshape(tf.strings.unicode_split(tokens, input_encoding='UTF-8'), (-1)))[1:]"
   ],
   "id": "302fef9e8b83b68a",
   "outputs": [],
   "execution_count": 13
  },
  {
   "metadata": {
    "ExecuteTime": {
     "end_time": "2024-08-05T05:19:32.557135Z",
     "start_time": "2024-08-05T05:19:32.544597Z"
    }
   },
   "cell_type": "code",
   "source": [
    "def load_data(path: str): \n",
    "    path = bytes.decode(path.numpy())\n",
    "    file_name = path.split('\\\\')[-1].split('.')[0]\n",
    "    video_path = os.path.join('data','s1',f'{file_name}.mpg')\n",
    "    alignment_path = os.path.join('data','alignments','s1',f'{file_name}.align')\n",
    "    frames = load_video(video_path) \n",
    "    alignments = load_alignments(alignment_path)\n",
    "    \n",
    "    return frames, alignments"
   ],
   "id": "a7138f6a7ab5868c",
   "outputs": [],
   "execution_count": 14
  },
  {
   "metadata": {
    "ExecuteTime": {
     "end_time": "2024-08-05T05:19:32.570281Z",
     "start_time": "2024-08-05T05:19:32.557135Z"
    }
   },
   "cell_type": "code",
   "source": "test_path = '.\\\\data\\\\s1\\\\bbaf2n.mpg'",
   "id": "c8cdee9712884a52",
   "outputs": [],
   "execution_count": 15
  },
  {
   "metadata": {
    "ExecuteTime": {
     "end_time": "2024-08-05T05:19:32.584587Z",
     "start_time": "2024-08-05T05:19:32.570281Z"
    }
   },
   "cell_type": "code",
   "source": "tf.convert_to_tensor(test_path).numpy().decode('utf-8').split('\\\\')[-1].split('.')[0]",
   "id": "fe3018d22ed4adb2",
   "outputs": [
    {
     "data": {
      "text/plain": [
       "'bbaf2n'"
      ]
     },
     "execution_count": 16,
     "metadata": {},
     "output_type": "execute_result"
    }
   ],
   "execution_count": 16
  },
  {
   "metadata": {
    "ExecuteTime": {
     "end_time": "2024-08-05T05:19:32.795077Z",
     "start_time": "2024-08-05T05:19:32.584587Z"
    }
   },
   "cell_type": "code",
   "source": "frames, alignments = load_data(tf.convert_to_tensor(test_path))",
   "id": "821a3f552f9306a4",
   "outputs": [],
   "execution_count": 17
  },
  {
   "metadata": {
    "ExecuteTime": {
     "end_time": "2024-08-05T05:19:32.893549Z",
     "start_time": "2024-08-05T05:19:32.795077Z"
    }
   },
   "cell_type": "code",
   "source": "plt.imshow(frames[40])",
   "id": "43d3b1d7138eacf5",
   "outputs": [
    {
     "data": {
      "text/plain": [
       "<matplotlib.image.AxesImage at 0x1eec1a20a70>"
      ]
     },
     "execution_count": 18,
     "metadata": {},
     "output_type": "execute_result"
    },
    {
     "data": {
      "text/plain": [
       "<Figure size 640x480 with 1 Axes>"
      ],
      "image/png": "[encoded data removed]"
     },
     "metadata": {},
     "output_type": "display_data"
    }
   ],
   "execution_count": 18
  },
  {
   "metadata": {
    "ExecuteTime": {
     "end_time": "2024-08-05T05:19:32.899855Z",
     "start_time": "2024-08-05T05:19:32.894573Z"
    }
   },
   "cell_type": "code",
   "source": "tf.strings.reduce_join([bytes.decode(x) for x in num_to_char(alignments.numpy()).numpy()])",
   "id": "b088b3f7a10773ca",
   "outputs": [
    {
     "data": {
      "text/plain": [
       "<tf.Tensor: shape=(), dtype=string, numpy=b'bin blue at f two now'>"
      ]
     },
     "execution_count": 19,
     "metadata": {},
     "output_type": "execute_result"
    }
   ],
   "execution_count": 19
  },
  {
   "metadata": {
    "ExecuteTime": {
     "end_time": "2024-08-05T05:19:32.912211Z",
     "start_time": "2024-08-05T05:19:32.899855Z"
    }
   },
   "cell_type": "code",
   "source": "\"\".join([bytes.decode(x) for x in num_to_char(alignments.numpy()).numpy()])",
   "id": "ed4fff46bac1e622",
   "outputs": [
    {
     "data": {
      "text/plain": [
       "'bin blue at f two now'"
      ]
     },
     "execution_count": 20,
     "metadata": {},
     "output_type": "execute_result"
    }
   ],
   "execution_count": 20
  },
  {
   "metadata": {
    "ExecuteTime": {
     "end_time": "2024-08-05T05:19:32.923616Z",
     "start_time": "2024-08-05T05:19:32.912729Z"
    }
   },
   "cell_type": "code",
   "source": [
    "def mappable_function(path):\n",
    "    result = tf.py_function(load_data, [path], (tf.float32, tf.int64))\n",
    "    return result"
   ],
   "id": "5e315e616aa5bf7a",
   "outputs": [],
   "execution_count": 21
  },
  {
   "metadata": {},
   "cell_type": "markdown",
   "source": "## 2. Build data pipeline",
   "id": "5a5d212a565ead24"
  },
  {
   "metadata": {
    "ExecuteTime": {
     "end_time": "2024-08-05T05:19:32.935278Z",
     "start_time": "2024-08-05T05:19:32.924629Z"
    }
   },
   "cell_type": "code",
   "source": [
    "import tensorflow as tf\n",
    "from matplotlib import pyplot as plt"
   ],
   "id": "121323d7eb925394",
   "outputs": [],
   "execution_count": 22
  },
  {
   "metadata": {
    "ExecuteTime": {
     "end_time": "2024-08-05T05:19:33.015653Z",
     "start_time": "2024-08-05T05:19:32.935278Z"
    }
   },
   "cell_type": "code",
   "source": [
    "data = tf.data.Dataset.list_files('./data/s1/*.mpg')\n",
    "data = data.shuffle(500, reshuffle_each_iteration=False)\n",
    "data = data.map(mappable_function)\n",
    "data = data.padded_batch(2, padded_shapes=([75,None,None,None],[40]))\n",
    "data = data.prefetch(tf.data.AUTOTUNE)\n",
    "\n",
    "train = data.take(450)\n",
    "test = data.skip(450)"
   ],
   "id": "ee60dafc9bed6e05",
   "outputs": [],
   "execution_count": 23
  },
  {
   "metadata": {
    "ExecuteTime": {
     "end_time": "2024-08-05T05:19:33.020774Z",
     "start_time": "2024-08-05T05:19:33.015653Z"
    }
   },
   "cell_type": "code",
   "source": "len(test)",
   "id": "114d3729553dbb18",
   "outputs": [
    {
     "data": {
      "text/plain": [
       "50"
      ]
     },
     "execution_count": 24,
     "metadata": {},
     "output_type": "execute_result"
    }
   ],
   "execution_count": 24
  },
  {
   "metadata": {
    "ExecuteTime": {
     "end_time": "2024-08-05T05:19:33.535348Z",
     "start_time": "2024-08-05T05:19:33.020774Z"
    }
   },
   "cell_type": "code",
   "source": "frames, alignments = data.as_numpy_iterator().next()",
   "id": "6c431f8efefae47b",
   "outputs": [],
   "execution_count": 25
  },
  {
   "metadata": {
    "ExecuteTime": {
     "end_time": "2024-08-05T05:19:33.540232Z",
     "start_time": "2024-08-05T05:19:33.536502Z"
    }
   },
   "cell_type": "code",
   "source": "len(frames)",
   "id": "122db274c9bc2800",
   "outputs": [
    {
     "data": {
      "text/plain": [
       "2"
      ]
     },
     "execution_count": 26,
     "metadata": {},
     "output_type": "execute_result"
    }
   ],
   "execution_count": 26
  },
  {
   "metadata": {
    "ExecuteTime": {
     "end_time": "2024-08-05T05:19:33.557125Z",
     "start_time": "2024-08-05T05:19:33.540232Z"
    }
   },
   "cell_type": "code",
   "source": "sample = data.as_numpy_iterator()",
   "id": "df0b0620ba1a8915",
   "outputs": [],
   "execution_count": 27
  },
  {
   "metadata": {
    "ExecuteTime": {
     "end_time": "2024-08-05T05:19:33.901157Z",
     "start_time": "2024-08-05T05:19:33.557125Z"
    }
   },
   "cell_type": "code",
   "source": "val = sample.next(); val[0]",
   "id": "ff26429d56f1c08c",
   "outputs": [
    {
     "data": {
      "text/plain": [
       "array([[[[[ 1.3833276 ],\n",
       "          [ 1.3833276 ],\n",
       "          [ 1.3426415 ],\n",
       "          ...,\n",
       "          [ 0.0406861 ],\n",
       "          [ 0.12205832],\n",
       "          [ 0.08137221]],\n",
       "\n",
       "         [[ 1.3833276 ],\n",
       "          [ 1.3833276 ],\n",
       "          [ 1.3426415 ],\n",
       "          ...,\n",
       "          [ 0.08137221],\n",
       "          [ 0.20343053],\n",
       "          [ 0.20343053]],\n",
       "\n",
       "         [[ 1.3019553 ],\n",
       "          [ 1.3019553 ],\n",
       "          [ 1.3019553 ],\n",
       "          ...,\n",
       "          [ 0.        ],\n",
       "          [ 0.0406861 ],\n",
       "          [ 0.0406861 ]],\n",
       "\n",
       "         ...,\n",
       "\n",
       "         [[ 0.93578047],\n",
       "          [ 0.93578047],\n",
       "          [ 0.93578047],\n",
       "          ...,\n",
       "          [10.13084   ],\n",
       "          [10.13084   ],\n",
       "          [10.13084   ]],\n",
       "\n",
       "         [[ 0.93578047],\n",
       "          [ 0.93578047],\n",
       "          [ 0.93578047],\n",
       "          ...,\n",
       "          [10.13084   ],\n",
       "          [10.13084   ],\n",
       "          [10.13084   ]],\n",
       "\n",
       "         [[ 0.93578047],\n",
       "          [ 0.93578047],\n",
       "          [ 0.93578047],\n",
       "          ...,\n",
       "          [10.13084   ],\n",
       "          [10.13084   ],\n",
       "          [10.13084   ]]],\n",
       "\n",
       "\n",
       "        [[[ 1.3833276 ],\n",
       "          [ 1.3833276 ],\n",
       "          [ 1.3833276 ],\n",
       "          ...,\n",
       "          [ 0.0406861 ],\n",
       "          [ 0.0406861 ],\n",
       "          [ 0.0406861 ]],\n",
       "\n",
       "         [[ 1.3426415 ],\n",
       "          [ 1.3426415 ],\n",
       "          [ 1.3426415 ],\n",
       "          ...,\n",
       "          [ 0.12205832],\n",
       "          [10.374957  ],\n",
       "          [ 0.0406861 ]],\n",
       "\n",
       "         [[ 1.3019553 ],\n",
       "          [ 1.3019553 ],\n",
       "          [ 1.3019553 ],\n",
       "          ...,\n",
       "          [ 0.        ],\n",
       "          [ 0.        ],\n",
       "          [ 0.        ]],\n",
       "\n",
       "         ...,\n",
       "\n",
       "         [[ 0.93578047],\n",
       "          [ 0.93578047],\n",
       "          [ 0.93578047],\n",
       "          ...,\n",
       "          [10.090155  ],\n",
       "          [10.090155  ],\n",
       "          [10.090155  ]],\n",
       "\n",
       "         [[ 0.93578047],\n",
       "          [ 0.93578047],\n",
       "          [ 0.93578047],\n",
       "          ...,\n",
       "          [10.090155  ],\n",
       "          [10.090155  ],\n",
       "          [10.090155  ]],\n",
       "\n",
       "         [[ 0.93578047],\n",
       "          [ 0.93578047],\n",
       "          [ 0.93578047],\n",
       "          ...,\n",
       "          [10.090155  ],\n",
       "          [10.090155  ],\n",
       "          [10.090155  ]]],\n",
       "\n",
       "\n",
       "        [[[ 1.4240137 ],\n",
       "          [ 1.4240137 ],\n",
       "          [ 1.4240137 ],\n",
       "          ...,\n",
       "          [ 0.        ],\n",
       "          [ 0.        ],\n",
       "          [ 0.08137221]],\n",
       "\n",
       "         [[ 1.3833276 ],\n",
       "          [ 1.3833276 ],\n",
       "          [ 1.3833276 ],\n",
       "          ...,\n",
       "          [ 0.08137221],\n",
       "          [10.293585  ],\n",
       "          [ 0.0406861 ]],\n",
       "\n",
       "         [[ 1.3833276 ],\n",
       "          [ 1.3833276 ],\n",
       "          [ 1.3833276 ],\n",
       "          ...,\n",
       "          [ 0.        ],\n",
       "          [ 0.        ],\n",
       "          [ 0.        ]],\n",
       "\n",
       "         ...,\n",
       "\n",
       "         [[ 0.89509434],\n",
       "          [ 0.89509434],\n",
       "          [ 0.89509434],\n",
       "          ...,\n",
       "          [10.049468  ],\n",
       "          [10.049468  ],\n",
       "          [10.049468  ]],\n",
       "\n",
       "         [[ 0.89509434],\n",
       "          [ 0.89509434],\n",
       "          [ 0.89509434],\n",
       "          ...,\n",
       "          [10.090155  ],\n",
       "          [10.090155  ],\n",
       "          [10.090155  ]],\n",
       "\n",
       "         [[ 0.89509434],\n",
       "          [ 0.89509434],\n",
       "          [ 0.89509434],\n",
       "          ...,\n",
       "          [10.090155  ],\n",
       "          [10.090155  ],\n",
       "          [10.090155  ]]],\n",
       "\n",
       "\n",
       "        ...,\n",
       "\n",
       "\n",
       "        [[[ 1.3426415 ],\n",
       "          [ 1.3426415 ],\n",
       "          [ 1.3019553 ],\n",
       "          ...,\n",
       "          [10.334271  ],\n",
       "          [10.374957  ],\n",
       "          [10.374957  ]],\n",
       "\n",
       "         [[ 1.3426415 ],\n",
       "          [ 1.3426415 ],\n",
       "          [ 1.3019553 ],\n",
       "          ...,\n",
       "          [10.334271  ],\n",
       "          [10.374957  ],\n",
       "          [10.374957  ]],\n",
       "\n",
       "         [[ 1.3019553 ],\n",
       "          [ 1.3019553 ],\n",
       "          [ 1.3019553 ],\n",
       "          ...,\n",
       "          [10.374957  ],\n",
       "          [10.374957  ],\n",
       "          [10.334271  ]],\n",
       "\n",
       "         ...,\n",
       "\n",
       "         [[ 0.93578047],\n",
       "          [ 0.89509434],\n",
       "          [ 0.8544082 ],\n",
       "          ...,\n",
       "          [10.090155  ],\n",
       "          [10.090155  ],\n",
       "          [10.090155  ]],\n",
       "\n",
       "         [[ 0.93578047],\n",
       "          [ 0.89509434],\n",
       "          [ 0.89509434],\n",
       "          ...,\n",
       "          [10.090155  ],\n",
       "          [10.090155  ],\n",
       "          [10.049468  ]],\n",
       "\n",
       "         [[ 0.93578047],\n",
       "          [ 0.89509434],\n",
       "          [ 0.89509434],\n",
       "          ...,\n",
       "          [10.090155  ],\n",
       "          [10.049468  ],\n",
       "          [10.049468  ]]],\n",
       "\n",
       "\n",
       "        [[[ 1.3019553 ],\n",
       "          [ 1.3019553 ],\n",
       "          [ 1.3426415 ],\n",
       "          ...,\n",
       "          [10.334271  ],\n",
       "          [10.334271  ],\n",
       "          [10.334271  ]],\n",
       "\n",
       "         [[ 1.3019553 ],\n",
       "          [ 1.3019553 ],\n",
       "          [ 1.3426415 ],\n",
       "          ...,\n",
       "          [10.334271  ],\n",
       "          [10.334271  ],\n",
       "          [10.334271  ]],\n",
       "\n",
       "         [[ 1.3019553 ],\n",
       "          [ 1.3019553 ],\n",
       "          [ 1.3019553 ],\n",
       "          ...,\n",
       "          [ 0.        ],\n",
       "          [ 0.        ],\n",
       "          [10.374957  ]],\n",
       "\n",
       "         ...,\n",
       "\n",
       "         [[ 0.97646654],\n",
       "          [ 0.93578047],\n",
       "          [ 0.89509434],\n",
       "          ...,\n",
       "          [10.090155  ],\n",
       "          [10.090155  ],\n",
       "          [10.090155  ]],\n",
       "\n",
       "         [[ 0.93578047],\n",
       "          [ 0.89509434],\n",
       "          [ 0.89509434],\n",
       "          ...,\n",
       "          [10.090155  ],\n",
       "          [10.090155  ],\n",
       "          [10.090155  ]],\n",
       "\n",
       "         [[ 0.93578047],\n",
       "          [ 0.89509434],\n",
       "          [ 0.89509434],\n",
       "          ...,\n",
       "          [10.090155  ],\n",
       "          [10.090155  ],\n",
       "          [10.049468  ]]],\n",
       "\n",
       "\n",
       "        [[[ 1.2612693 ],\n",
       "          [ 1.2612693 ],\n",
       "          [ 1.3426415 ],\n",
       "          ...,\n",
       "          [10.374957  ],\n",
       "          [10.334271  ],\n",
       "          [10.334271  ]],\n",
       "\n",
       "         [[ 1.2612693 ],\n",
       "          [ 1.2612693 ],\n",
       "          [ 1.3426415 ],\n",
       "          ...,\n",
       "          [10.374957  ],\n",
       "          [10.334271  ],\n",
       "          [10.334271  ]],\n",
       "\n",
       "         [[ 1.3833276 ],\n",
       "          [ 1.3833276 ],\n",
       "          [ 1.3019553 ],\n",
       "          ...,\n",
       "          [ 0.        ],\n",
       "          [ 0.        ],\n",
       "          [10.374957  ]],\n",
       "\n",
       "         ...,\n",
       "\n",
       "         [[ 0.93578047],\n",
       "          [ 0.97646654],\n",
       "          [ 0.93578047],\n",
       "          ...,\n",
       "          [10.13084   ],\n",
       "          [10.13084   ],\n",
       "          [10.13084   ]],\n",
       "\n",
       "         [[ 0.93578047],\n",
       "          [ 0.93578047],\n",
       "          [ 0.97646654],\n",
       "          ...,\n",
       "          [10.13084   ],\n",
       "          [10.13084   ],\n",
       "          [10.13084   ]],\n",
       "\n",
       "         [[ 0.93578047],\n",
       "          [ 0.93578047],\n",
       "          [ 0.93578047],\n",
       "          ...,\n",
       "          [10.13084   ],\n",
       "          [10.13084   ],\n",
       "          [10.13084   ]]]],\n",
       "\n",
       "\n",
       "\n",
       "       [[[[ 1.4994212 ],\n",
       "          [ 1.46285   ],\n",
       "          [ 0.91428125],\n",
       "          ...,\n",
       "          [ 0.40228376],\n",
       "          [ 0.3657125 ],\n",
       "          [ 0.3657125 ]],\n",
       "\n",
       "         [[ 1.4262787 ],\n",
       "          [ 1.2434225 ],\n",
       "          [ 0.8411387 ],\n",
       "          ...,\n",
       "          [ 0.40228376],\n",
       "          [ 0.3657125 ],\n",
       "          [ 0.3657125 ]],\n",
       "\n",
       "         [[ 1.3531363 ],\n",
       "          [ 1.5359925 ],\n",
       "          [ 1.46285   ],\n",
       "          ...,\n",
       "          [ 0.40228376],\n",
       "          [ 0.40228376],\n",
       "          [ 0.40228376]],\n",
       "\n",
       "         ...,\n",
       "\n",
       "         [[ 1.1337087 ],\n",
       "          [ 1.0971375 ],\n",
       "          [ 1.0971375 ],\n",
       "          ...,\n",
       "          [ 0.10971375],\n",
       "          [ 0.10971375],\n",
       "          [ 0.10971375]],\n",
       "\n",
       "         [[ 1.0971375 ],\n",
       "          [ 1.0971375 ],\n",
       "          [ 1.0971375 ],\n",
       "          ...,\n",
       "          [ 0.10971375],\n",
       "          [ 0.10971375],\n",
       "          [ 0.10971375]],\n",
       "\n",
       "         [[ 1.0971375 ],\n",
       "          [ 1.0971375 ],\n",
       "          [ 1.0971375 ],\n",
       "          ...,\n",
       "          [ 0.10971375],\n",
       "          [ 0.10971375],\n",
       "          [ 0.0731425 ]]],\n",
       "\n",
       "\n",
       "        [[[ 1.4262787 ],\n",
       "          [ 1.3897074 ],\n",
       "          [ 0.9874238 ],\n",
       "          ...,\n",
       "          [ 0.40228376],\n",
       "          [ 0.32914126],\n",
       "          [ 0.32914126]],\n",
       "\n",
       "         [[ 1.3897074 ],\n",
       "          [ 1.2799938 ],\n",
       "          [ 0.91428125],\n",
       "          ...,\n",
       "          [ 0.40228376],\n",
       "          [ 0.32914126],\n",
       "          [ 0.32914126]],\n",
       "\n",
       "         [[ 1.4262787 ],\n",
       "          [ 1.4262787 ],\n",
       "          [ 1.2799938 ],\n",
       "          ...,\n",
       "          [ 0.3657125 ],\n",
       "          [ 0.3657125 ],\n",
       "          [ 0.3657125 ]],\n",
       "\n",
       "         ...,\n",
       "\n",
       "         [[ 1.0971375 ],\n",
       "          [ 1.0971375 ],\n",
       "          [ 1.0971375 ],\n",
       "          ...,\n",
       "          [ 0.10971375],\n",
       "          [ 0.10971375],\n",
       "          [ 0.10971375]],\n",
       "\n",
       "         [[ 1.0971375 ],\n",
       "          [ 1.0971375 ],\n",
       "          [ 1.0605663 ],\n",
       "          ...,\n",
       "          [ 0.10971375],\n",
       "          [ 0.10971375],\n",
       "          [ 0.0731425 ]],\n",
       "\n",
       "         [[ 1.0971375 ],\n",
       "          [ 1.0605663 ],\n",
       "          [ 1.0605663 ],\n",
       "          ...,\n",
       "          [ 0.10971375],\n",
       "          [ 0.0731425 ],\n",
       "          [ 0.0731425 ]]],\n",
       "\n",
       "\n",
       "        [[[ 1.3897074 ],\n",
       "          [ 1.3897074 ],\n",
       "          [ 1.023995  ],\n",
       "          ...,\n",
       "          [ 0.438855  ],\n",
       "          [ 0.3657125 ],\n",
       "          [ 0.3657125 ]],\n",
       "\n",
       "         [[ 1.316565  ],\n",
       "          [ 1.316565  ],\n",
       "          [ 0.9874238 ],\n",
       "          ...,\n",
       "          [ 0.438855  ],\n",
       "          [ 0.3657125 ],\n",
       "          [ 0.3657125 ]],\n",
       "\n",
       "         [[ 1.3897074 ],\n",
       "          [ 1.3897074 ],\n",
       "          [ 1.2799938 ],\n",
       "          ...,\n",
       "          [ 0.3657125 ],\n",
       "          [ 0.3657125 ],\n",
       "          [ 0.3657125 ]],\n",
       "\n",
       "         ...,\n",
       "\n",
       "         [[ 1.0971375 ],\n",
       "          [ 1.0971375 ],\n",
       "          [ 1.0971375 ],\n",
       "          ...,\n",
       "          [ 0.10971375],\n",
       "          [ 0.10971375],\n",
       "          [ 0.10971375]],\n",
       "\n",
       "         [[ 1.0971375 ],\n",
       "          [ 1.0971375 ],\n",
       "          [ 1.0971375 ],\n",
       "          ...,\n",
       "          [ 0.10971375],\n",
       "          [ 0.10971375],\n",
       "          [ 0.0731425 ]],\n",
       "\n",
       "         [[ 1.0971375 ],\n",
       "          [ 1.0971375 ],\n",
       "          [ 1.0605663 ],\n",
       "          ...,\n",
       "          [ 0.10971375],\n",
       "          [ 0.0731425 ],\n",
       "          [ 0.0731425 ]]],\n",
       "\n",
       "\n",
       "        ...,\n",
       "\n",
       "\n",
       "        [[[ 1.2434225 ],\n",
       "          [ 1.3531363 ],\n",
       "          [ 0.731425  ],\n",
       "          ...,\n",
       "          [ 0.40228376],\n",
       "          [ 0.438855  ],\n",
       "          [ 0.438855  ]],\n",
       "\n",
       "         [[ 1.2434225 ],\n",
       "          [ 1.1337087 ],\n",
       "          [ 0.6948537 ],\n",
       "          ...,\n",
       "          [ 0.40228376],\n",
       "          [ 0.438855  ],\n",
       "          [ 0.438855  ]],\n",
       "\n",
       "         [[ 1.46285   ],\n",
       "          [ 1.46285   ],\n",
       "          [ 1.17028   ],\n",
       "          ...,\n",
       "          [ 0.3657125 ],\n",
       "          [ 0.3657125 ],\n",
       "          [ 0.3657125 ]],\n",
       "\n",
       "         ...,\n",
       "\n",
       "         [[ 1.0605663 ],\n",
       "          [ 1.0605663 ],\n",
       "          [ 1.0605663 ],\n",
       "          ...,\n",
       "          [ 0.10971375],\n",
       "          [ 0.10971375],\n",
       "          [ 0.10971375]],\n",
       "\n",
       "         [[ 1.0605663 ],\n",
       "          [ 1.0605663 ],\n",
       "          [ 1.0605663 ],\n",
       "          ...,\n",
       "          [ 0.10971375],\n",
       "          [ 0.10971375],\n",
       "          [ 0.0731425 ]],\n",
       "\n",
       "         [[ 1.0605663 ],\n",
       "          [ 1.0605663 ],\n",
       "          [ 1.023995  ],\n",
       "          ...,\n",
       "          [ 0.10971375],\n",
       "          [ 0.0731425 ],\n",
       "          [ 0.0731425 ]]],\n",
       "\n",
       "\n",
       "        [[[ 1.3897074 ],\n",
       "          [ 1.3897074 ],\n",
       "          [ 0.8045675 ],\n",
       "          ...,\n",
       "          [ 0.40228376],\n",
       "          [ 0.438855  ],\n",
       "          [ 0.438855  ]],\n",
       "\n",
       "         [[ 1.46285   ],\n",
       "          [ 1.17028   ],\n",
       "          [ 0.8045675 ],\n",
       "          ...,\n",
       "          [ 0.40228376],\n",
       "          [ 0.438855  ],\n",
       "          [ 0.438855  ]],\n",
       "\n",
       "         [[ 1.5359925 ],\n",
       "          [ 1.4994212 ],\n",
       "          [ 1.2068512 ],\n",
       "          ...,\n",
       "          [ 0.3657125 ],\n",
       "          [ 0.3657125 ],\n",
       "          [ 0.3657125 ]],\n",
       "\n",
       "         ...,\n",
       "\n",
       "         [[ 1.0605663 ],\n",
       "          [ 1.0605663 ],\n",
       "          [ 1.0605663 ],\n",
       "          ...,\n",
       "          [ 0.146285  ],\n",
       "          [ 0.146285  ],\n",
       "          [ 0.10971375]],\n",
       "\n",
       "         [[ 1.0605663 ],\n",
       "          [ 1.0605663 ],\n",
       "          [ 1.0605663 ],\n",
       "          ...,\n",
       "          [ 0.146285  ],\n",
       "          [ 0.10971375],\n",
       "          [ 0.0731425 ]],\n",
       "\n",
       "         [[ 1.0605663 ],\n",
       "          [ 1.0605663 ],\n",
       "          [ 1.023995  ],\n",
       "          ...,\n",
       "          [ 0.10971375],\n",
       "          [ 0.0731425 ],\n",
       "          [ 0.0731425 ]]],\n",
       "\n",
       "\n",
       "        [[[ 1.4262787 ],\n",
       "          [ 1.3531363 ],\n",
       "          [ 0.9508525 ],\n",
       "          ...,\n",
       "          [ 0.3657125 ],\n",
       "          [ 0.3657125 ],\n",
       "          [ 0.3657125 ]],\n",
       "\n",
       "         [[ 1.3897074 ],\n",
       "          [ 1.3897074 ],\n",
       "          [ 0.6948537 ],\n",
       "          ...,\n",
       "          [ 0.3657125 ],\n",
       "          [ 0.3657125 ],\n",
       "          [ 0.3657125 ]],\n",
       "\n",
       "         [[ 1.4994212 ],\n",
       "          [ 1.4994212 ],\n",
       "          [ 1.1337087 ],\n",
       "          ...,\n",
       "          [ 0.3657125 ],\n",
       "          [ 0.3657125 ],\n",
       "          [ 0.3657125 ]],\n",
       "\n",
       "         ...,\n",
       "\n",
       "         [[ 1.023995  ],\n",
       "          [ 0.9874238 ],\n",
       "          [ 1.023995  ],\n",
       "          ...,\n",
       "          [ 0.146285  ],\n",
       "          [ 0.146285  ],\n",
       "          [ 0.10971375]],\n",
       "\n",
       "         [[ 0.9874238 ],\n",
       "          [ 0.9874238 ],\n",
       "          [ 1.023995  ],\n",
       "          ...,\n",
       "          [ 0.146285  ],\n",
       "          [ 0.10971375],\n",
       "          [ 0.0731425 ]],\n",
       "\n",
       "         [[ 0.9874238 ],\n",
       "          [ 0.9874238 ],\n",
       "          [ 1.023995  ],\n",
       "          ...,\n",
       "          [ 0.10971375],\n",
       "          [ 0.0731425 ],\n",
       "          [ 0.0731425 ]]]]], dtype=float32)"
      ]
     },
     "execution_count": 28,
     "metadata": {},
     "output_type": "execute_result"
    }
   ],
   "execution_count": 28
  },
  {
   "metadata": {
    "ExecuteTime": {
     "end_time": "2024-08-05T05:19:33.999631Z",
     "start_time": "2024-08-05T05:19:33.901157Z"
    }
   },
   "cell_type": "code",
   "source": "plt.imshow(val[0][0][35])",
   "id": "534a626d58b56be2",
   "outputs": [
    {
     "data": {
      "text/plain": [
       "<matplotlib.image.AxesImage at 0x1eec3542b10>"
      ]
     },
     "execution_count": 29,
     "metadata": {},
     "output_type": "execute_result"
    },
    {
     "data": {
      "text/plain": [
       "<Figure size 640x480 with 1 Axes>"
      ],
      "image/png": "[encoded data removed]"
     },
     "metadata": {},
     "output_type": "display_data"
    }
   ],
   "execution_count": 29
  },
  {
   "metadata": {
    "ExecuteTime": {
     "end_time": "2024-08-05T05:19:34.035484Z",
     "start_time": "2024-08-05T05:19:33.999631Z"
    }
   },
   "cell_type": "code",
   "source": "tf.strings.reduce_join([num_to_char(word) for word in val[1][0]])",
   "id": "480a0e799adfc1d0",
   "outputs": [
    {
     "data": {
      "text/plain": [
       "<tf.Tensor: shape=(), dtype=string, numpy=b'bin red at s nine again'>"
      ]
     },
     "execution_count": 30,
     "metadata": {},
     "output_type": "execute_result"
    }
   ],
   "execution_count": 30
  },
  {
   "metadata": {},
   "cell_type": "markdown",
   "source": "## 3. Design Lip network",
   "id": "97e731302afaf2fa"
  },
  {
   "metadata": {
    "ExecuteTime": {
     "end_time": "2024-08-05T05:19:34.046433Z",
     "start_time": "2024-08-05T05:19:34.035484Z"
    }
   },
   "cell_type": "code",
   "source": [
    "from tensorflow.keras.models import Sequential \n",
    "from tensorflow.keras.layers import Conv3D, LSTM, Dense, Dropout, Bidirectional, MaxPool3D, Activation, Reshape, SpatialDropout3D, BatchNormalization, TimeDistributed, Flatten\n",
    "from tensorflow.keras.optimizers import Adam\n",
    "from tensorflow.keras.callbacks import ModelCheckpoint, LearningRateScheduler"
   ],
   "id": "8cd82c864d316b11",
   "outputs": [],
   "execution_count": 31
  },
  {
   "metadata": {
    "ExecuteTime": {
     "end_time": "2024-08-05T05:19:34.644338Z",
     "start_time": "2024-08-05T05:19:34.046433Z"
    }
   },
   "cell_type": "code",
   "source": "data.as_numpy_iterator().next()[0][0].shape",
   "id": "67c8a6fa62190b73",
   "outputs": [
    {
     "data": {
      "text/plain": [
       "(75, 46, 140, 1)"
      ]
     },
     "execution_count": 32,
     "metadata": {},
     "output_type": "execute_result"
    }
   ],
   "execution_count": 32
  },
  {
   "metadata": {
    "ExecuteTime": {
     "end_time": "2024-08-05T05:19:35.461328Z",
     "start_time": "2024-08-05T05:19:34.644434Z"
    }
   },
   "cell_type": "code",
   "source": [
    "model = Sequential()\n",
    "model.add(Conv3D(128, 3, input_shape=(75,46,140,1), padding='same'))\n",
    "model.add(Activation('relu'))\n",
    "model.add(MaxPool3D((1,2,2)))\n",
    "\n",
    "model.add(Conv3D(256, 3, padding='same'))\n",
    "model.add(Activation('relu'))\n",
    "model.add(MaxPool3D((1,2,2)))\n",
    "\n",
    "model.add(Conv3D(75, 3, padding='same'))\n",
    "model.add(Activation('relu'))\n",
    "model.add(MaxPool3D((1,2,2)))\n",
    "\n",
    "model.add(TimeDistributed(Flatten()))\n",
    "\n",
    "model.add(Bidirectional(LSTM(128, kernel_initializer='Orthogonal', return_sequences=True)))\n",
    "model.add(Dropout(.5))\n",
    "\n",
    "model.add(Bidirectional(LSTM(128, kernel_initializer='Orthogonal', return_sequences=True)))\n",
    "model.add(Dropout(.5))\n",
    "\n",
    "model.add(Dense(char_to_num.vocabulary_size()+1, kernel_initializer='he_normal', activation='softmax'))"
   ],
   "id": "9f38371c0f90f713",
   "outputs": [
    {
     "name": "stderr",
     "output_type": "stream",
     "text": [
      "C:\\ProgramData\\miniforge3\\envs\\Lipformer\\Lib\\site-packages\\keras\\src\\layers\\convolutional\\base_conv.py:107: UserWarning: Do not pass an `input_shape`/`input_dim` argument to a layer. When using Sequential models, prefer using an `Input(shape)` object as the first layer in the model instead.\n",
      "  super().__init__(activity_regularizer=activity_regularizer, **kwargs)\n"
     ]
    }
   ],
   "execution_count": 33
  },
  {
   "metadata": {
    "ExecuteTime": {
     "end_time": "2024-08-05T05:19:35.481476Z",
     "start_time": "2024-08-05T05:19:35.461328Z"
    }
   },
   "cell_type": "code",
   "source": "model.summary()",
   "id": "30ffaf42c2786d7b",
   "outputs": [
    {
     "data": {
      "text/plain": [
       "\u001B[1mModel: \"sequential\"\u001B[0m\n"
      ],
      "text/html": [
       "<pre style=\"white-space:pre;overflow-x:auto;line-height:normal;font-family:Menlo,'DejaVu Sans Mono',consolas,'Courier New',monospace\"><span style=\"font-weight: bold\">Model: \"sequential\"</span>\n",
       "</pre>\n"
      ]
     },
     "metadata": {},
     "output_type": "display_data"
    },
    {
     "data": {
      "text/plain": [
       "┏━━━━━━━━━━━━━━━━━━━━━━━━━━━━━━━━━┳━━━━━━━━━━━━━━━━━━━━━━━━┳━━━━━━━━━━━━━━━┓\n",
       "┃\u001B[1m \u001B[0m\u001B[1mLayer (type)                   \u001B[0m\u001B[1m \u001B[0m┃\u001B[1m \u001B[0m\u001B[1mOutput Shape          \u001B[0m\u001B[1m \u001B[0m┃\u001B[1m \u001B[0m\u001B[1m      Param #\u001B[0m\u001B[1m \u001B[0m┃\n",
       "┡━━━━━━━━━━━━━━━━━━━━━━━━━━━━━━━━━╇━━━━━━━━━━━━━━━━━━━━━━━━╇━━━━━━━━━━━━━━━┩\n",
       "│ conv3d (\u001B[38;5;33mConv3D\u001B[0m)                 │ (\u001B[38;5;45mNone\u001B[0m, \u001B[38;5;34m75\u001B[0m, \u001B[38;5;34m46\u001B[0m, \u001B[38;5;34m140\u001B[0m,    │         \u001B[38;5;34m3,584\u001B[0m │\n",
       "│                                 │ \u001B[38;5;34m128\u001B[0m)                   │               │\n",
       "├─────────────────────────────────┼────────────────────────┼───────────────┤\n",
       "│ activation (\u001B[38;5;33mActivation\u001B[0m)         │ (\u001B[38;5;45mNone\u001B[0m, \u001B[38;5;34m75\u001B[0m, \u001B[38;5;34m46\u001B[0m, \u001B[38;5;34m140\u001B[0m,    │             \u001B[38;5;34m0\u001B[0m │\n",
       "│                                 │ \u001B[38;5;34m128\u001B[0m)                   │               │\n",
       "├─────────────────────────────────┼────────────────────────┼───────────────┤\n",
       "│ max_pooling3d (\u001B[38;5;33mMaxPooling3D\u001B[0m)    │ (\u001B[38;5;45mNone\u001B[0m, \u001B[38;5;34m75\u001B[0m, \u001B[38;5;34m23\u001B[0m, \u001B[38;5;34m70\u001B[0m,     │             \u001B[38;5;34m0\u001B[0m │\n",
       "│                                 │ \u001B[38;5;34m128\u001B[0m)                   │               │\n",
       "├─────────────────────────────────┼────────────────────────┼───────────────┤\n",
       "│ conv3d_1 (\u001B[38;5;33mConv3D\u001B[0m)               │ (\u001B[38;5;45mNone\u001B[0m, \u001B[38;5;34m75\u001B[0m, \u001B[38;5;34m23\u001B[0m, \u001B[38;5;34m70\u001B[0m,     │       \u001B[38;5;34m884,992\u001B[0m │\n",
       "│                                 │ \u001B[38;5;34m256\u001B[0m)                   │               │\n",
       "├─────────────────────────────────┼────────────────────────┼───────────────┤\n",
       "│ activation_1 (\u001B[38;5;33mActivation\u001B[0m)       │ (\u001B[38;5;45mNone\u001B[0m, \u001B[38;5;34m75\u001B[0m, \u001B[38;5;34m23\u001B[0m, \u001B[38;5;34m70\u001B[0m,     │             \u001B[38;5;34m0\u001B[0m │\n",
       "│                                 │ \u001B[38;5;34m256\u001B[0m)                   │               │\n",
       "├─────────────────────────────────┼────────────────────────┼───────────────┤\n",
       "│ max_pooling3d_1 (\u001B[38;5;33mMaxPooling3D\u001B[0m)  │ (\u001B[38;5;45mNone\u001B[0m, \u001B[38;5;34m75\u001B[0m, \u001B[38;5;34m11\u001B[0m, \u001B[38;5;34m35\u001B[0m,     │             \u001B[38;5;34m0\u001B[0m │\n",
       "│                                 │ \u001B[38;5;34m256\u001B[0m)                   │               │\n",
       "├─────────────────────────────────┼────────────────────────┼───────────────┤\n",
       "│ conv3d_2 (\u001B[38;5;33mConv3D\u001B[0m)               │ (\u001B[38;5;45mNone\u001B[0m, \u001B[38;5;34m75\u001B[0m, \u001B[38;5;34m11\u001B[0m, \u001B[38;5;34m35\u001B[0m, \u001B[38;5;34m75\u001B[0m) │       \u001B[38;5;34m518,475\u001B[0m │\n",
       "├─────────────────────────────────┼────────────────────────┼───────────────┤\n",
       "│ activation_2 (\u001B[38;5;33mActivation\u001B[0m)       │ (\u001B[38;5;45mNone\u001B[0m, \u001B[38;5;34m75\u001B[0m, \u001B[38;5;34m11\u001B[0m, \u001B[38;5;34m35\u001B[0m, \u001B[38;5;34m75\u001B[0m) │             \u001B[38;5;34m0\u001B[0m │\n",
       "├─────────────────────────────────┼────────────────────────┼───────────────┤\n",
       "│ max_pooling3d_2 (\u001B[38;5;33mMaxPooling3D\u001B[0m)  │ (\u001B[38;5;45mNone\u001B[0m, \u001B[38;5;34m75\u001B[0m, \u001B[38;5;34m5\u001B[0m, \u001B[38;5;34m17\u001B[0m, \u001B[38;5;34m75\u001B[0m)  │             \u001B[38;5;34m0\u001B[0m │\n",
       "├─────────────────────────────────┼────────────────────────┼───────────────┤\n",
       "│ time_distributed                │ (\u001B[38;5;45mNone\u001B[0m, \u001B[38;5;34m75\u001B[0m, \u001B[38;5;34m6375\u001B[0m)       │             \u001B[38;5;34m0\u001B[0m │\n",
       "│ (\u001B[38;5;33mTimeDistributed\u001B[0m)               │                        │               │\n",
       "├─────────────────────────────────┼────────────────────────┼───────────────┤\n",
       "│ bidirectional (\u001B[38;5;33mBidirectional\u001B[0m)   │ (\u001B[38;5;45mNone\u001B[0m, \u001B[38;5;34m75\u001B[0m, \u001B[38;5;34m256\u001B[0m)        │     \u001B[38;5;34m6,660,096\u001B[0m │\n",
       "├─────────────────────────────────┼────────────────────────┼───────────────┤\n",
       "│ dropout (\u001B[38;5;33mDropout\u001B[0m)               │ (\u001B[38;5;45mNone\u001B[0m, \u001B[38;5;34m75\u001B[0m, \u001B[38;5;34m256\u001B[0m)        │             \u001B[38;5;34m0\u001B[0m │\n",
       "├─────────────────────────────────┼────────────────────────┼───────────────┤\n",
       "│ bidirectional_1 (\u001B[38;5;33mBidirectional\u001B[0m) │ (\u001B[38;5;45mNone\u001B[0m, \u001B[38;5;34m75\u001B[0m, \u001B[38;5;34m256\u001B[0m)        │       \u001B[38;5;34m394,240\u001B[0m │\n",
       "├─────────────────────────────────┼────────────────────────┼───────────────┤\n",
       "│ dropout_1 (\u001B[38;5;33mDropout\u001B[0m)             │ (\u001B[38;5;45mNone\u001B[0m, \u001B[38;5;34m75\u001B[0m, \u001B[38;5;34m256\u001B[0m)        │             \u001B[38;5;34m0\u001B[0m │\n",
       "├─────────────────────────────────┼────────────────────────┼───────────────┤\n",
       "│ dense (\u001B[38;5;33mDense\u001B[0m)                   │ (\u001B[38;5;45mNone\u001B[0m, \u001B[38;5;34m75\u001B[0m, \u001B[38;5;34m41\u001B[0m)         │        \u001B[38;5;34m10,537\u001B[0m │\n",
       "└─────────────────────────────────┴────────────────────────┴───────────────┘\n"
      ],
      "text/html": [
       "<pre style=\"white-space:pre;overflow-x:auto;line-height:normal;font-family:Menlo,'DejaVu Sans Mono',consolas,'Courier New',monospace\">┏━━━━━━━━━━━━━━━━━━━━━━━━━━━━━━━━━┳━━━━━━━━━━━━━━━━━━━━━━━━┳━━━━━━━━━━━━━━━┓\n",
       "┃<span style=\"font-weight: bold\"> Layer (type)                    </span>┃<span style=\"font-weight: bold\"> Output Shape           </span>┃<span style=\"font-weight: bold\">       Param # </span>┃\n",
       "┡━━━━━━━━━━━━━━━━━━━━━━━━━━━━━━━━━╇━━━━━━━━━━━━━━━━━━━━━━━━╇━━━━━━━━━━━━━━━┩\n",
       "│ conv3d (<span style=\"color: #0087ff; text-decoration-color: #0087ff\">Conv3D</span>)                 │ (<span style=\"color: #00d7ff; text-decoration-color: #00d7ff\">None</span>, <span style=\"color: #00af00; text-decoration-color: #00af00\">75</span>, <span style=\"color: #00af00; text-decoration-color: #00af00\">46</span>, <span style=\"color: #00af00; text-decoration-color: #00af00\">140</span>,    │         <span style=\"color: #00af00; text-decoration-color: #00af00\">3,584</span> │\n",
       "│                                 │ <span style=\"color: #00af00; text-decoration-color: #00af00\">128</span>)                   │               │\n",
       "├─────────────────────────────────┼────────────────────────┼───────────────┤\n",
       "│ activation (<span style=\"color: #0087ff; text-decoration-color: #0087ff\">Activation</span>)         │ (<span style=\"color: #00d7ff; text-decoration-color: #00d7ff\">None</span>, <span style=\"color: #00af00; text-decoration-color: #00af00\">75</span>, <span style=\"color: #00af00; text-decoration-color: #00af00\">46</span>, <span style=\"color: #00af00; text-decoration-color: #00af00\">140</span>,    │             <span style=\"color: #00af00; text-decoration-color: #00af00\">0</span> │\n",
       "│                                 │ <span style=\"color: #00af00; text-decoration-color: #00af00\">128</span>)                   │               │\n",
       "├─────────────────────────────────┼────────────────────────┼───────────────┤\n",
       "│ max_pooling3d (<span style=\"color: #0087ff; text-decoration-color: #0087ff\">MaxPooling3D</span>)    │ (<span style=\"color: #00d7ff; text-decoration-color: #00d7ff\">None</span>, <span style=\"color: #00af00; text-decoration-color: #00af00\">75</span>, <span style=\"color: #00af00; text-decoration-color: #00af00\">23</span>, <span style=\"color: #00af00; text-decoration-color: #00af00\">70</span>,     │             <span style=\"color: #00af00; text-decoration-color: #00af00\">0</span> │\n",
       "│                                 │ <span style=\"color: #00af00; text-decoration-color: #00af00\">128</span>)                   │               │\n",
       "├─────────────────────────────────┼────────────────────────┼───────────────┤\n",
       "│ conv3d_1 (<span style=\"color: #0087ff; text-decoration-color: #0087ff\">Conv3D</span>)               │ (<span style=\"color: #00d7ff; text-decoration-color: #00d7ff\">None</span>, <span style=\"color: #00af00; text-decoration-color: #00af00\">75</span>, <span style=\"color: #00af00; text-decoration-color: #00af00\">23</span>, <span style=\"color: #00af00; text-decoration-color: #00af00\">70</span>,     │       <span style=\"color: #00af00; text-decoration-color: #00af00\">884,992</span> │\n",
       "│                                 │ <span style=\"color: #00af00; text-decoration-color: #00af00\">256</span>)                   │               │\n",
       "├─────────────────────────────────┼────────────────────────┼───────────────┤\n",
       "│ activation_1 (<span style=\"color: #0087ff; text-decoration-color: #0087ff\">Activation</span>)       │ (<span style=\"color: #00d7ff; text-decoration-color: #00d7ff\">None</span>, <span style=\"color: #00af00; text-decoration-color: #00af00\">75</span>, <span style=\"color: #00af00; text-decoration-color: #00af00\">23</span>, <span style=\"color: #00af00; text-decoration-color: #00af00\">70</span>,     │             <span style=\"color: #00af00; text-decoration-color: #00af00\">0</span> │\n",
       "│                                 │ <span style=\"color: #00af00; text-decoration-color: #00af00\">256</span>)                   │               │\n",
       "├─────────────────────────────────┼────────────────────────┼───────────────┤\n",
       "│ max_pooling3d_1 (<span style=\"color: #0087ff; text-decoration-color: #0087ff\">MaxPooling3D</span>)  │ (<span style=\"color: #00d7ff; text-decoration-color: #00d7ff\">None</span>, <span style=\"color: #00af00; text-decoration-color: #00af00\">75</span>, <span style=\"color: #00af00; text-decoration-color: #00af00\">11</span>, <span style=\"color: #00af00; text-decoration-color: #00af00\">35</span>,     │             <span style=\"color: #00af00; text-decoration-color: #00af00\">0</span> │\n",
       "│                                 │ <span style=\"color: #00af00; text-decoration-color: #00af00\">256</span>)                   │               │\n",
       "├─────────────────────────────────┼────────────────────────┼───────────────┤\n",
       "│ conv3d_2 (<span style=\"color: #0087ff; text-decoration-color: #0087ff\">Conv3D</span>)               │ (<span style=\"color: #00d7ff; text-decoration-color: #00d7ff\">None</span>, <span style=\"color: #00af00; text-decoration-color: #00af00\">75</span>, <span style=\"color: #00af00; text-decoration-color: #00af00\">11</span>, <span style=\"color: #00af00; text-decoration-color: #00af00\">35</span>, <span style=\"color: #00af00; text-decoration-color: #00af00\">75</span>) │       <span style=\"color: #00af00; text-decoration-color: #00af00\">518,475</span> │\n",
       "├─────────────────────────────────┼────────────────────────┼───────────────┤\n",
       "│ activation_2 (<span style=\"color: #0087ff; text-decoration-color: #0087ff\">Activation</span>)       │ (<span style=\"color: #00d7ff; text-decoration-color: #00d7ff\">None</span>, <span style=\"color: #00af00; text-decoration-color: #00af00\">75</span>, <span style=\"color: #00af00; text-decoration-color: #00af00\">11</span>, <span style=\"color: #00af00; text-decoration-color: #00af00\">35</span>, <span style=\"color: #00af00; text-decoration-color: #00af00\">75</span>) │             <span style=\"color: #00af00; text-decoration-color: #00af00\">0</span> │\n",
       "├─────────────────────────────────┼────────────────────────┼───────────────┤\n",
       "│ max_pooling3d_2 (<span style=\"color: #0087ff; text-decoration-color: #0087ff\">MaxPooling3D</span>)  │ (<span style=\"color: #00d7ff; text-decoration-color: #00d7ff\">None</span>, <span style=\"color: #00af00; text-decoration-color: #00af00\">75</span>, <span style=\"color: #00af00; text-decoration-color: #00af00\">5</span>, <span style=\"color: #00af00; text-decoration-color: #00af00\">17</span>, <span style=\"color: #00af00; text-decoration-color: #00af00\">75</span>)  │             <span style=\"color: #00af00; text-decoration-color: #00af00\">0</span> │\n",
       "├─────────────────────────────────┼────────────────────────┼───────────────┤\n",
       "│ time_distributed                │ (<span style=\"color: #00d7ff; text-decoration-color: #00d7ff\">None</span>, <span style=\"color: #00af00; text-decoration-color: #00af00\">75</span>, <span style=\"color: #00af00; text-decoration-color: #00af00\">6375</span>)       │             <span style=\"color: #00af00; text-decoration-color: #00af00\">0</span> │\n",
       "│ (<span style=\"color: #0087ff; text-decoration-color: #0087ff\">TimeDistributed</span>)               │                        │               │\n",
       "├─────────────────────────────────┼────────────────────────┼───────────────┤\n",
       "│ bidirectional (<span style=\"color: #0087ff; text-decoration-color: #0087ff\">Bidirectional</span>)   │ (<span style=\"color: #00d7ff; text-decoration-color: #00d7ff\">None</span>, <span style=\"color: #00af00; text-decoration-color: #00af00\">75</span>, <span style=\"color: #00af00; text-decoration-color: #00af00\">256</span>)        │     <span style=\"color: #00af00; text-decoration-color: #00af00\">6,660,096</span> │\n",
       "├─────────────────────────────────┼────────────────────────┼───────────────┤\n",
       "│ dropout (<span style=\"color: #0087ff; text-decoration-color: #0087ff\">Dropout</span>)               │ (<span style=\"color: #00d7ff; text-decoration-color: #00d7ff\">None</span>, <span style=\"color: #00af00; text-decoration-color: #00af00\">75</span>, <span style=\"color: #00af00; text-decoration-color: #00af00\">256</span>)        │             <span style=\"color: #00af00; text-decoration-color: #00af00\">0</span> │\n",
       "├─────────────────────────────────┼────────────────────────┼───────────────┤\n",
       "│ bidirectional_1 (<span style=\"color: #0087ff; text-decoration-color: #0087ff\">Bidirectional</span>) │ (<span style=\"color: #00d7ff; text-decoration-color: #00d7ff\">None</span>, <span style=\"color: #00af00; text-decoration-color: #00af00\">75</span>, <span style=\"color: #00af00; text-decoration-color: #00af00\">256</span>)        │       <span style=\"color: #00af00; text-decoration-color: #00af00\">394,240</span> │\n",
       "├─────────────────────────────────┼────────────────────────┼───────────────┤\n",
       "│ dropout_1 (<span style=\"color: #0087ff; text-decoration-color: #0087ff\">Dropout</span>)             │ (<span style=\"color: #00d7ff; text-decoration-color: #00d7ff\">None</span>, <span style=\"color: #00af00; text-decoration-color: #00af00\">75</span>, <span style=\"color: #00af00; text-decoration-color: #00af00\">256</span>)        │             <span style=\"color: #00af00; text-decoration-color: #00af00\">0</span> │\n",
       "├─────────────────────────────────┼────────────────────────┼───────────────┤\n",
       "│ dense (<span style=\"color: #0087ff; text-decoration-color: #0087ff\">Dense</span>)                   │ (<span style=\"color: #00d7ff; text-decoration-color: #00d7ff\">None</span>, <span style=\"color: #00af00; text-decoration-color: #00af00\">75</span>, <span style=\"color: #00af00; text-decoration-color: #00af00\">41</span>)         │        <span style=\"color: #00af00; text-decoration-color: #00af00\">10,537</span> │\n",
       "└─────────────────────────────────┴────────────────────────┴───────────────┘\n",
       "</pre>\n"
      ]
     },
     "metadata": {},
     "output_type": "display_data"
    },
    {
     "data": {
      "text/plain": [
       "\u001B[1m Total params: \u001B[0m\u001B[38;5;34m8,471,924\u001B[0m (32.32 MB)\n"
      ],
      "text/html": [
       "<pre style=\"white-space:pre;overflow-x:auto;line-height:normal;font-family:Menlo,'DejaVu Sans Mono',consolas,'Courier New',monospace\"><span style=\"font-weight: bold\"> Total params: </span><span style=\"color: #00af00; text-decoration-color: #00af00\">8,471,924</span> (32.32 MB)\n",
       "</pre>\n"
      ]
     },
     "metadata": {},
     "output_type": "display_data"
    },
    {
     "data": {
      "text/plain": [
       "\u001B[1m Trainable params: \u001B[0m\u001B[38;5;34m8,471,924\u001B[0m (32.32 MB)\n"
      ],
      "text/html": [
       "<pre style=\"white-space:pre;overflow-x:auto;line-height:normal;font-family:Menlo,'DejaVu Sans Mono',consolas,'Courier New',monospace\"><span style=\"font-weight: bold\"> Trainable params: </span><span style=\"color: #00af00; text-decoration-color: #00af00\">8,471,924</span> (32.32 MB)\n",
       "</pre>\n"
      ]
     },
     "metadata": {},
     "output_type": "display_data"
    },
    {
     "data": {
      "text/plain": [
       "\u001B[1m Non-trainable params: \u001B[0m\u001B[38;5;34m0\u001B[0m (0.00 B)\n"
      ],
      "text/html": [
       "<pre style=\"white-space:pre;overflow-x:auto;line-height:normal;font-family:Menlo,'DejaVu Sans Mono',consolas,'Courier New',monospace\"><span style=\"font-weight: bold\"> Non-trainable params: </span><span style=\"color: #00af00; text-decoration-color: #00af00\">0</span> (0.00 B)\n",
       "</pre>\n"
      ]
     },
     "metadata": {},
     "output_type": "display_data"
    }
   ],
   "execution_count": 34
  },
  {
   "metadata": {
    "ExecuteTime": {
     "end_time": "2024-08-05T05:19:37.276959Z",
     "start_time": "2024-08-05T05:19:35.481476Z"
    }
   },
   "cell_type": "code",
   "source": "yhat = model.predict(val[0])",
   "id": "867ff15051f22791",
   "outputs": [
    {
     "name": "stdout",
     "output_type": "stream",
     "text": [
      "\u001B[1m1/1\u001B[0m \u001B[32m━━━━━━━━━━━━━━━━━━━━\u001B[0m\u001B[37m\u001B[0m \u001B[1m2s\u001B[0m 2s/step\n"
     ]
    }
   ],
   "execution_count": 35
  },
  {
   "metadata": {
    "ExecuteTime": {
     "end_time": "2024-08-05T05:19:37.330416Z",
     "start_time": "2024-08-05T05:19:37.277971Z"
    }
   },
   "cell_type": "code",
   "source": "tf.strings.reduce_join([num_to_char(x) for x in tf.argmax(yhat[0],axis=1)])",
   "id": "d2487a586945d6cc",
   "outputs": [
    {
     "data": {
      "text/plain": [
       "<tf.Tensor: shape=(), dtype=string, numpy=b'hhhhhhhhhhhhhhhhhhhhhhhhhhhhhhhhhhhhhhhhhhhhhhhhhhhhhhhhhhhhhhhhhhh777777rr'>"
      ]
     },
     "execution_count": 36,
     "metadata": {},
     "output_type": "execute_result"
    }
   ],
   "execution_count": 36
  },
  {
   "metadata": {
    "ExecuteTime": {
     "end_time": "2024-08-05T05:19:37.365185Z",
     "start_time": "2024-08-05T05:19:37.330416Z"
    }
   },
   "cell_type": "code",
   "source": "tf.strings.reduce_join([num_to_char(tf.argmax(x)) for x in yhat[0]])",
   "id": "1b43abdfb2a81442",
   "outputs": [
    {
     "data": {
      "text/plain": [
       "<tf.Tensor: shape=(), dtype=string, numpy=b'hhhhhhhhhhhhhhhhhhhhhhhhhhhhhhhhhhhhhhhhhhhhhhhhhhhhhhhhhhhhhhhhhhh777777rr'>"
      ]
     },
     "execution_count": 37,
     "metadata": {},
     "output_type": "execute_result"
    }
   ],
   "execution_count": 37
  },
  {
   "metadata": {
    "ExecuteTime": {
     "end_time": "2024-08-05T05:19:37.370237Z",
     "start_time": "2024-08-05T05:19:37.365185Z"
    }
   },
   "cell_type": "code",
   "source": "model.input_shape, model.output_shape",
   "id": "69f0a856cd8456b4",
   "outputs": [
    {
     "data": {
      "text/plain": [
       "((None, 75, 46, 140, 1), (None, 75, 41))"
      ]
     },
     "execution_count": 38,
     "metadata": {},
     "output_type": "execute_result"
    }
   ],
   "execution_count": 38
  },
  {
   "metadata": {
    "ExecuteTime": {
     "end_time": "2024-08-05T05:19:37.384306Z",
     "start_time": "2024-08-05T05:19:37.370237Z"
    }
   },
   "cell_type": "code",
   "source": "tf.argmax(yhat[0], axis=1)",
   "id": "b7959b255071cf51",
   "outputs": [
    {
     "data": {
      "text/plain": [
       "<tf.Tensor: shape=(75,), dtype=int64, numpy=\n",
       "array([ 8,  8,  8,  8,  8,  8,  8,  8,  8,  8,  8,  8,  8,  8,  8,  8,  8,\n",
       "        8,  8,  8,  8,  8,  8,  8,  8,  8,  8,  8,  8,  8,  8,  8,  8,  8,\n",
       "        8,  8,  8,  8,  8,  8,  8,  8,  8,  8,  8,  8,  8,  8,  8,  8,  8,\n",
       "        8,  8,  8,  8,  8,  8,  8,  8,  8,  8,  8,  8,  8,  8,  8,  8, 36,\n",
       "       36, 36, 36, 36, 36, 18, 18], dtype=int64)>"
      ]
     },
     "execution_count": 39,
     "metadata": {},
     "output_type": "execute_result"
    }
   ],
   "execution_count": 39
  },
  {
   "metadata": {},
   "cell_type": "markdown",
   "source": "## 4. Setup train options and train",
   "id": "84af7ee2f2f8de60"
  },
  {
   "metadata": {
    "ExecuteTime": {
     "end_time": "2024-08-05T05:19:37.395844Z",
     "start_time": "2024-08-05T05:19:37.384306Z"
    }
   },
   "cell_type": "code",
   "source": [
    "def scheduler(epoch, lr):\n",
    "    if epoch < 30:\n",
    "        return lr\n",
    "    else:\n",
    "        return lr * tf.math.exp(-0.1)"
   ],
   "id": "6502e5779709f8b2",
   "outputs": [],
   "execution_count": 40
  },
  {
   "metadata": {
    "ExecuteTime": {
     "end_time": "2024-08-05T05:19:37.409324Z",
     "start_time": "2024-08-05T05:19:37.395844Z"
    }
   },
   "cell_type": "code",
   "source": [
    "def CTCLoss(y_true, y_pred):\n",
    "    batch_len = tf.cast(tf.shape(y_true)[0], dtype=\"int64\")\n",
    "    input_length = tf.cast(tf.shape(y_pred)[1], dtype=\"int64\")\n",
    "    label_length = tf.cast(tf.shape(y_true)[1], dtype=\"int64\")\n",
    "\n",
    "    input_length = input_length * tf.ones(shape=(batch_len, 1), dtype=\"int64\")\n",
    "    label_length = label_length * tf.ones(shape=(batch_len, 1), dtype=\"int64\")\n",
    "\n",
    "    loss = tf.keras.backend.ctc_batch_cost(y_true, y_pred, input_length, label_length)\n",
    "    return loss"
   ],
   "id": "840c8894181ae405",
   "outputs": [],
   "execution_count": 41
  },
  {
   "metadata": {
    "ExecuteTime": {
     "end_time": "2024-08-05T05:19:37.422470Z",
     "start_time": "2024-08-05T05:19:37.409324Z"
    }
   },
   "cell_type": "code",
   "source": [
    "class ProduceExample(tf.keras.callbacks.Callback): \n",
    "    def __init__(self, dataset): \n",
    "        self.dataset = dataset.as_numpy_iterator()\n",
    "    \n",
    "    def on_epoch_end(self, epoch, logs=None):\n",
    "        data = self.dataset.next()\n",
    "        y_hat = self.model.predict(data[0])\n",
    "        decoded = tf.keras.backend.ctc_decode(y_hat, [75,75], greedy=False)[0][0].numpy()\n",
    "        for x in range(len(y_hat)):           \n",
    "            print('Original:', tf.strings.reduce_join(num_to_char(data[1][x])).numpy().decode('utf-8'))\n",
    "            print('Prediction:', tf.strings.reduce_join(num_to_char(decoded[x])).numpy().decode('utf-8'))\n",
    "            print('~'*100)"
   ],
   "id": "8d5cb0d4260846fe",
   "outputs": [],
   "execution_count": 42
  },
  {
   "metadata": {
    "ExecuteTime": {
     "end_time": "2024-08-05T05:19:37.441600Z",
     "start_time": "2024-08-05T05:19:37.423485Z"
    }
   },
   "cell_type": "code",
   "source": "model.compile(optimizer=Adam(learning_rate=0.0001), loss=CTCLoss)",
   "id": "eac30047d0b1b9b2",
   "outputs": [],
   "execution_count": 43
  },
  {
   "metadata": {
    "ExecuteTime": {
     "end_time": "2024-08-05T05:19:37.447441Z",
     "start_time": "2024-08-05T05:19:37.441600Z"
    }
   },
   "cell_type": "code",
   "source": "checkpoint_callback = ModelCheckpoint(os.path.join('models','checkpoint','best.weights.h5'), monitor='loss', save_weights_only=True) ",
   "id": "2ae1f3007268a1a6",
   "outputs": [],
   "execution_count": 44
  },
  {
   "metadata": {
    "ExecuteTime": {
     "end_time": "2024-08-05T05:19:37.459016Z",
     "start_time": "2024-08-05T05:19:37.447441Z"
    }
   },
   "cell_type": "code",
   "source": "schedule_callback = LearningRateScheduler(scheduler)",
   "id": "d2e3d792c583fb5c",
   "outputs": [],
   "execution_count": 45
  },
  {
   "metadata": {
    "ExecuteTime": {
     "end_time": "2024-08-05T05:19:37.483577Z",
     "start_time": "2024-08-05T05:19:37.460022Z"
    }
   },
   "cell_type": "code",
   "source": "example_callback = ProduceExample(test)",
   "id": "7179b804b79940c2",
   "outputs": [],
   "execution_count": 46
  },
  {
   "metadata": {
    "ExecuteTime": {
     "end_time": "2024-08-05T05:19:48.891766Z",
     "start_time": "2024-08-05T05:19:37.484591Z"
    }
   },
   "cell_type": "code",
   "source": "model.fit(train, validation_data=test, epochs=100, callbacks=[checkpoint_callback, schedule_callback, example_callback])",
   "id": "1889647d177e0cb4",
   "outputs": [
    {
     "name": "stdout",
     "output_type": "stream",
     "text": [
      "Epoch 1/100\n",
      "WARNING:tensorflow:From C:\\ProgramData\\miniforge3\\envs\\Lipformer\\Lib\\site-packages\\keras\\src\\legacy\\backend.py:666: The name tf.nn.ctc_loss is deprecated. Please use tf.compat.v1.nn.ctc_loss instead.\n",
      "\n"
     ]
    },
    {
     "ename": "InvalidArgumentError",
     "evalue": "Graph execution error:\n\nDetected at node sequential_1/time_distributed_1/Reshape_19 defined at (most recent call last):\n  File \"<frozen runpy>\", line 198, in _run_module_as_main\n\n  File \"<frozen runpy>\", line 88, in _run_code\n\n  File \"C:\\ProgramData\\miniforge3\\envs\\Lipformer\\Lib\\site-packages\\ipykernel_launcher.py\", line 18, in <module>\n\n  File \"C:\\ProgramData\\miniforge3\\envs\\Lipformer\\Lib\\site-packages\\traitlets\\config\\application.py\", line 1075, in launch_instance\n\n  File \"C:\\ProgramData\\miniforge3\\envs\\Lipformer\\Lib\\site-packages\\ipykernel\\kernelapp.py\", line 739, in start\n\n  File \"C:\\ProgramData\\miniforge3\\envs\\Lipformer\\Lib\\site-packages\\tornado\\platform\\asyncio.py\", line 205, in start\n\n  File \"C:\\ProgramData\\miniforge3\\envs\\Lipformer\\Lib\\asyncio\\base_events.py\", line 641, in run_forever\n\n  File \"C:\\ProgramData\\miniforge3\\envs\\Lipformer\\Lib\\asyncio\\base_events.py\", line 1987, in _run_once\n\n  File \"C:\\ProgramData\\miniforge3\\envs\\Lipformer\\Lib\\asyncio\\events.py\", line 88, in _run\n\n  File \"C:\\ProgramData\\miniforge3\\envs\\Lipformer\\Lib\\site-packages\\ipykernel\\kernelbase.py\", line 545, in dispatch_queue\n\n  File \"C:\\ProgramData\\miniforge3\\envs\\Lipformer\\Lib\\site-packages\\ipykernel\\kernelbase.py\", line 534, in process_one\n\n  File \"C:\\ProgramData\\miniforge3\\envs\\Lipformer\\Lib\\site-packages\\ipykernel\\kernelbase.py\", line 437, in dispatch_shell\n\n  File \"C:\\ProgramData\\miniforge3\\envs\\Lipformer\\Lib\\site-packages\\ipykernel\\ipkernel.py\", line 362, in execute_request\n\n  File \"C:\\ProgramData\\miniforge3\\envs\\Lipformer\\Lib\\site-packages\\ipykernel\\kernelbase.py\", line 778, in execute_request\n\n  File \"C:\\ProgramData\\miniforge3\\envs\\Lipformer\\Lib\\site-packages\\ipykernel\\ipkernel.py\", line 449, in do_execute\n\n  File \"C:\\ProgramData\\miniforge3\\envs\\Lipformer\\Lib\\site-packages\\ipykernel\\zmqshell.py\", line 549, in run_cell\n\n  File \"C:\\ProgramData\\miniforge3\\envs\\Lipformer\\Lib\\site-packages\\IPython\\core\\interactiveshell.py\", line 3075, in run_cell\n\n  File \"C:\\ProgramData\\miniforge3\\envs\\Lipformer\\Lib\\site-packages\\IPython\\core\\interactiveshell.py\", line 3130, in _run_cell\n\n  File \"C:\\ProgramData\\miniforge3\\envs\\Lipformer\\Lib\\site-packages\\IPython\\core\\async_helpers.py\", line 128, in _pseudo_sync_runner\n\n  File \"C:\\ProgramData\\miniforge3\\envs\\Lipformer\\Lib\\site-packages\\IPython\\core\\interactiveshell.py\", line 3334, in run_cell_async\n\n  File \"C:\\ProgramData\\miniforge3\\envs\\Lipformer\\Lib\\site-packages\\IPython\\core\\interactiveshell.py\", line 3517, in run_ast_nodes\n\n  File \"C:\\ProgramData\\miniforge3\\envs\\Lipformer\\Lib\\site-packages\\IPython\\core\\interactiveshell.py\", line 3577, in run_code\n\n  File \"C:\\Users\\Admin\\AppData\\Local\\Temp\\ipykernel_14068\\986682723.py\", line 1, in <module>\n\n  File \"C:\\ProgramData\\miniforge3\\envs\\Lipformer\\Lib\\site-packages\\keras\\src\\utils\\traceback_utils.py\", line 117, in error_handler\n\n  File \"C:\\ProgramData\\miniforge3\\envs\\Lipformer\\Lib\\site-packages\\keras\\src\\backend\\tensorflow\\trainer.py\", line 318, in fit\n\n  File \"C:\\ProgramData\\miniforge3\\envs\\Lipformer\\Lib\\site-packages\\keras\\src\\backend\\tensorflow\\trainer.py\", line 121, in one_step_on_iterator\n\n  File \"C:\\ProgramData\\miniforge3\\envs\\Lipformer\\Lib\\site-packages\\keras\\src\\backend\\tensorflow\\trainer.py\", line 108, in one_step_on_data\n\n  File \"C:\\ProgramData\\miniforge3\\envs\\Lipformer\\Lib\\site-packages\\keras\\src\\backend\\tensorflow\\trainer.py\", line 51, in train_step\n\n  File \"C:\\ProgramData\\miniforge3\\envs\\Lipformer\\Lib\\site-packages\\keras\\src\\utils\\traceback_utils.py\", line 117, in error_handler\n\n  File \"C:\\ProgramData\\miniforge3\\envs\\Lipformer\\Lib\\site-packages\\keras\\src\\layers\\layer.py\", line 882, in __call__\n\n  File \"C:\\ProgramData\\miniforge3\\envs\\Lipformer\\Lib\\site-packages\\keras\\src\\utils\\traceback_utils.py\", line 117, in error_handler\n\n  File \"C:\\ProgramData\\miniforge3\\envs\\Lipformer\\Lib\\site-packages\\keras\\src\\ops\\operation.py\", line 46, in __call__\n\n  File \"C:\\ProgramData\\miniforge3\\envs\\Lipformer\\Lib\\site-packages\\keras\\src\\utils\\traceback_utils.py\", line 156, in error_handler\n\n  File \"C:\\ProgramData\\miniforge3\\envs\\Lipformer\\Lib\\site-packages\\keras\\src\\models\\sequential.py\", line 209, in call\n\n  File \"C:\\ProgramData\\miniforge3\\envs\\Lipformer\\Lib\\site-packages\\keras\\src\\models\\functional.py\", line 175, in call\n\n  File \"C:\\ProgramData\\miniforge3\\envs\\Lipformer\\Lib\\site-packages\\keras\\src\\ops\\function.py\", line 171, in _run_through_graph\n\n  File \"C:\\ProgramData\\miniforge3\\envs\\Lipformer\\Lib\\site-packages\\keras\\src\\models\\functional.py\", line 556, in call\n\n  File \"C:\\ProgramData\\miniforge3\\envs\\Lipformer\\Lib\\site-packages\\keras\\src\\utils\\traceback_utils.py\", line 117, in error_handler\n\n  File \"C:\\ProgramData\\miniforge3\\envs\\Lipformer\\Lib\\site-packages\\keras\\src\\layers\\layer.py\", line 882, in __call__\n\n  File \"C:\\ProgramData\\miniforge3\\envs\\Lipformer\\Lib\\site-packages\\keras\\src\\utils\\traceback_utils.py\", line 117, in error_handler\n\n  File \"C:\\ProgramData\\miniforge3\\envs\\Lipformer\\Lib\\site-packages\\keras\\src\\ops\\operation.py\", line 46, in __call__\n\n  File \"C:\\ProgramData\\miniforge3\\envs\\Lipformer\\Lib\\site-packages\\keras\\src\\utils\\traceback_utils.py\", line 156, in error_handler\n\n  File \"C:\\ProgramData\\miniforge3\\envs\\Lipformer\\Lib\\site-packages\\keras\\src\\layers\\rnn\\time_distributed.py\", line 108, in call\n\n  File \"C:\\ProgramData\\miniforge3\\envs\\Lipformer\\Lib\\site-packages\\keras\\src\\layers\\rnn\\time_distributed.py\", line 102, in step_function\n\n  File \"C:\\ProgramData\\miniforge3\\envs\\Lipformer\\Lib\\site-packages\\keras\\src\\layers\\reshaping\\flatten.py\", line 54, in call\n\n  File \"C:\\ProgramData\\miniforge3\\envs\\Lipformer\\Lib\\site-packages\\keras\\src\\ops\\numpy.py\", line 4440, in reshape\n\n  File \"C:\\ProgramData\\miniforge3\\envs\\Lipformer\\Lib\\site-packages\\keras\\src\\backend\\tensorflow\\numpy.py\", line 1789, in reshape\n\nOnly one input size may be -1, not both 0 and 1\n\t [[{{node sequential_1/time_distributed_1/Reshape_19}}]] [Op:__inference_one_step_on_iterator_31235]",
     "output_type": "error",
     "traceback": [
      "\u001B[1;31m---------------------------------------------------------------------------\u001B[0m",
      "\u001B[1;31mInvalidArgumentError\u001B[0m                      Traceback (most recent call last)",
      "Cell \u001B[1;32mIn[47], line 1\u001B[0m\n\u001B[1;32m----> 1\u001B[0m \u001B[43mmodel\u001B[49m\u001B[38;5;241;43m.\u001B[39;49m\u001B[43mfit\u001B[49m\u001B[43m(\u001B[49m\u001B[43mtrain\u001B[49m\u001B[43m,\u001B[49m\u001B[43m \u001B[49m\u001B[43mvalidation_data\u001B[49m\u001B[38;5;241;43m=\u001B[39;49m\u001B[43mtest\u001B[49m\u001B[43m,\u001B[49m\u001B[43m \u001B[49m\u001B[43mepochs\u001B[49m\u001B[38;5;241;43m=\u001B[39;49m\u001B[38;5;241;43m100\u001B[39;49m\u001B[43m,\u001B[49m\u001B[43m \u001B[49m\u001B[43mcallbacks\u001B[49m\u001B[38;5;241;43m=\u001B[39;49m\u001B[43m[\u001B[49m\u001B[43mcheckpoint_callback\u001B[49m\u001B[43m,\u001B[49m\u001B[43m \u001B[49m\u001B[43mschedule_callback\u001B[49m\u001B[43m,\u001B[49m\u001B[43m \u001B[49m\u001B[43mexample_callback\u001B[49m\u001B[43m]\u001B[49m\u001B[43m)\u001B[49m\n",
      "File \u001B[1;32mC:\\ProgramData\\miniforge3\\envs\\Lipformer\\Lib\\site-packages\\keras\\src\\utils\\traceback_utils.py:122\u001B[0m, in \u001B[0;36mfilter_traceback.<locals>.error_handler\u001B[1;34m(*args, **kwargs)\u001B[0m\n\u001B[0;32m    119\u001B[0m     filtered_tb \u001B[38;5;241m=\u001B[39m _process_traceback_frames(e\u001B[38;5;241m.\u001B[39m__traceback__)\n\u001B[0;32m    120\u001B[0m     \u001B[38;5;66;03m# To get the full stack trace, call:\u001B[39;00m\n\u001B[0;32m    121\u001B[0m     \u001B[38;5;66;03m# `keras.config.disable_traceback_filtering()`\u001B[39;00m\n\u001B[1;32m--> 122\u001B[0m     \u001B[38;5;28;01mraise\u001B[39;00m e\u001B[38;5;241m.\u001B[39mwith_traceback(filtered_tb) \u001B[38;5;28;01mfrom\u001B[39;00m \u001B[38;5;28;01mNone\u001B[39;00m\n\u001B[0;32m    123\u001B[0m \u001B[38;5;28;01mfinally\u001B[39;00m:\n\u001B[0;32m    124\u001B[0m     \u001B[38;5;28;01mdel\u001B[39;00m filtered_tb\n",
      "File \u001B[1;32mC:\\ProgramData\\miniforge3\\envs\\Lipformer\\Lib\\site-packages\\tensorflow\\python\\eager\\execute.py:53\u001B[0m, in \u001B[0;36mquick_execute\u001B[1;34m(op_name, num_outputs, inputs, attrs, ctx, name)\u001B[0m\n\u001B[0;32m     51\u001B[0m \u001B[38;5;28;01mtry\u001B[39;00m:\n\u001B[0;32m     52\u001B[0m   ctx\u001B[38;5;241m.\u001B[39mensure_initialized()\n\u001B[1;32m---> 53\u001B[0m   tensors \u001B[38;5;241m=\u001B[39m pywrap_tfe\u001B[38;5;241m.\u001B[39mTFE_Py_Execute(ctx\u001B[38;5;241m.\u001B[39m_handle, device_name, op_name,\n\u001B[0;32m     54\u001B[0m                                       inputs, attrs, num_outputs)\n\u001B[0;32m     55\u001B[0m \u001B[38;5;28;01mexcept\u001B[39;00m core\u001B[38;5;241m.\u001B[39m_NotOkStatusException \u001B[38;5;28;01mas\u001B[39;00m e:\n\u001B[0;32m     56\u001B[0m   \u001B[38;5;28;01mif\u001B[39;00m name \u001B[38;5;129;01mis\u001B[39;00m \u001B[38;5;129;01mnot\u001B[39;00m \u001B[38;5;28;01mNone\u001B[39;00m:\n",
      "\u001B[1;31mInvalidArgumentError\u001B[0m: Graph execution error:\n\nDetected at node sequential_1/time_distributed_1/Reshape_19 defined at (most recent call last):\n  File \"<frozen runpy>\", line 198, in _run_module_as_main\n\n  File \"<frozen runpy>\", line 88, in _run_code\n\n  File \"C:\\ProgramData\\miniforge3\\envs\\Lipformer\\Lib\\site-packages\\ipykernel_launcher.py\", line 18, in <module>\n\n  File \"C:\\ProgramData\\miniforge3\\envs\\Lipformer\\Lib\\site-packages\\traitlets\\config\\application.py\", line 1075, in launch_instance\n\n  File \"C:\\ProgramData\\miniforge3\\envs\\Lipformer\\Lib\\site-packages\\ipykernel\\kernelapp.py\", line 739, in start\n\n  File \"C:\\ProgramData\\miniforge3\\envs\\Lipformer\\Lib\\site-packages\\tornado\\platform\\asyncio.py\", line 205, in start\n\n  File \"C:\\ProgramData\\miniforge3\\envs\\Lipformer\\Lib\\asyncio\\base_events.py\", line 641, in run_forever\n\n  File \"C:\\ProgramData\\miniforge3\\envs\\Lipformer\\Lib\\asyncio\\base_events.py\", line 1987, in _run_once\n\n  File \"C:\\ProgramData\\miniforge3\\envs\\Lipformer\\Lib\\asyncio\\events.py\", line 88, in _run\n\n  File \"C:\\ProgramData\\miniforge3\\envs\\Lipformer\\Lib\\site-packages\\ipykernel\\kernelbase.py\", line 545, in dispatch_queue\n\n  File \"C:\\ProgramData\\miniforge3\\envs\\Lipformer\\Lib\\site-packages\\ipykernel\\kernelbase.py\", line 534, in process_one\n\n  File \"C:\\ProgramData\\miniforge3\\envs\\Lipformer\\Lib\\site-packages\\ipykernel\\kernelbase.py\", line 437, in dispatch_shell\n\n  File \"C:\\ProgramData\\miniforge3\\envs\\Lipformer\\Lib\\site-packages\\ipykernel\\ipkernel.py\", line 362, in execute_request\n\n  File \"C:\\ProgramData\\miniforge3\\envs\\Lipformer\\Lib\\site-packages\\ipykernel\\kernelbase.py\", line 778, in execute_request\n\n  File \"C:\\ProgramData\\miniforge3\\envs\\Lipformer\\Lib\\site-packages\\ipykernel\\ipkernel.py\", line 449, in do_execute\n\n  File \"C:\\ProgramData\\miniforge3\\envs\\Lipformer\\Lib\\site-packages\\ipykernel\\zmqshell.py\", line 549, in run_cell\n\n  File \"C:\\ProgramData\\miniforge3\\envs\\Lipformer\\Lib\\site-packages\\IPython\\core\\interactiveshell.py\", line 3075, in run_cell\n\n  File \"C:\\ProgramData\\miniforge3\\envs\\Lipformer\\Lib\\site-packages\\IPython\\core\\interactiveshell.py\", line 3130, in _run_cell\n\n  File \"C:\\ProgramData\\miniforge3\\envs\\Lipformer\\Lib\\site-packages\\IPython\\core\\async_helpers.py\", line 128, in _pseudo_sync_runner\n\n  File \"C:\\ProgramData\\miniforge3\\envs\\Lipformer\\Lib\\site-packages\\IPython\\core\\interactiveshell.py\", line 3334, in run_cell_async\n\n  File \"C:\\ProgramData\\miniforge3\\envs\\Lipformer\\Lib\\site-packages\\IPython\\core\\interactiveshell.py\", line 3517, in run_ast_nodes\n\n  File \"C:\\ProgramData\\miniforge3\\envs\\Lipformer\\Lib\\site-packages\\IPython\\core\\interactiveshell.py\", line 3577, in run_code\n\n  File \"C:\\Users\\Admin\\AppData\\Local\\Temp\\ipykernel_14068\\986682723.py\", line 1, in <module>\n\n  File \"C:\\ProgramData\\miniforge3\\envs\\Lipformer\\Lib\\site-packages\\keras\\src\\utils\\traceback_utils.py\", line 117, in error_handler\n\n  File \"C:\\ProgramData\\miniforge3\\envs\\Lipformer\\Lib\\site-packages\\keras\\src\\backend\\tensorflow\\trainer.py\", line 318, in fit\n\n  File \"C:\\ProgramData\\miniforge3\\envs\\Lipformer\\Lib\\site-packages\\keras\\src\\backend\\tensorflow\\trainer.py\", line 121, in one_step_on_iterator\n\n  File \"C:\\ProgramData\\miniforge3\\envs\\Lipformer\\Lib\\site-packages\\keras\\src\\backend\\tensorflow\\trainer.py\", line 108, in one_step_on_data\n\n  File \"C:\\ProgramData\\miniforge3\\envs\\Lipformer\\Lib\\site-packages\\keras\\src\\backend\\tensorflow\\trainer.py\", line 51, in train_step\n\n  File \"C:\\ProgramData\\miniforge3\\envs\\Lipformer\\Lib\\site-packages\\keras\\src\\utils\\traceback_utils.py\", line 117, in error_handler\n\n  File \"C:\\ProgramData\\miniforge3\\envs\\Lipformer\\Lib\\site-packages\\keras\\src\\layers\\layer.py\", line 882, in __call__\n\n  File \"C:\\ProgramData\\miniforge3\\envs\\Lipformer\\Lib\\site-packages\\keras\\src\\utils\\traceback_utils.py\", line 117, in error_handler\n\n  File \"C:\\ProgramData\\miniforge3\\envs\\Lipformer\\Lib\\site-packages\\keras\\src\\ops\\operation.py\", line 46, in __call__\n\n  File \"C:\\ProgramData\\miniforge3\\envs\\Lipformer\\Lib\\site-packages\\keras\\src\\utils\\traceback_utils.py\", line 156, in error_handler\n\n  File \"C:\\ProgramData\\miniforge3\\envs\\Lipformer\\Lib\\site-packages\\keras\\src\\models\\sequential.py\", line 209, in call\n\n  File \"C:\\ProgramData\\miniforge3\\envs\\Lipformer\\Lib\\site-packages\\keras\\src\\models\\functional.py\", line 175, in call\n\n  File \"C:\\ProgramData\\miniforge3\\envs\\Lipformer\\Lib\\site-packages\\keras\\src\\ops\\function.py\", line 171, in _run_through_graph\n\n  File \"C:\\ProgramData\\miniforge3\\envs\\Lipformer\\Lib\\site-packages\\keras\\src\\models\\functional.py\", line 556, in call\n\n  File \"C:\\ProgramData\\miniforge3\\envs\\Lipformer\\Lib\\site-packages\\keras\\src\\utils\\traceback_utils.py\", line 117, in error_handler\n\n  File \"C:\\ProgramData\\miniforge3\\envs\\Lipformer\\Lib\\site-packages\\keras\\src\\layers\\layer.py\", line 882, in __call__\n\n  File \"C:\\ProgramData\\miniforge3\\envs\\Lipformer\\Lib\\site-packages\\keras\\src\\utils\\traceback_utils.py\", line 117, in error_handler\n\n  File \"C:\\ProgramData\\miniforge3\\envs\\Lipformer\\Lib\\site-packages\\keras\\src\\ops\\operation.py\", line 46, in __call__\n\n  File \"C:\\ProgramData\\miniforge3\\envs\\Lipformer\\Lib\\site-packages\\keras\\src\\utils\\traceback_utils.py\", line 156, in error_handler\n\n  File \"C:\\ProgramData\\miniforge3\\envs\\Lipformer\\Lib\\site-packages\\keras\\src\\layers\\rnn\\time_distributed.py\", line 108, in call\n\n  File \"C:\\ProgramData\\miniforge3\\envs\\Lipformer\\Lib\\site-packages\\keras\\src\\layers\\rnn\\time_distributed.py\", line 102, in step_function\n\n  File \"C:\\ProgramData\\miniforge3\\envs\\Lipformer\\Lib\\site-packages\\keras\\src\\layers\\reshaping\\flatten.py\", line 54, in call\n\n  File \"C:\\ProgramData\\miniforge3\\envs\\Lipformer\\Lib\\site-packages\\keras\\src\\ops\\numpy.py\", line 4440, in reshape\n\n  File \"C:\\ProgramData\\miniforge3\\envs\\Lipformer\\Lib\\site-packages\\keras\\src\\backend\\tensorflow\\numpy.py\", line 1789, in reshape\n\nOnly one input size may be -1, not both 0 and 1\n\t [[{{node sequential_1/time_distributed_1/Reshape_19}}]] [Op:__inference_one_step_on_iterator_31235]"
     ]
    }
   ],
   "execution_count": 47
  },
  {
   "metadata": {},
   "cell_type": "code",
   "source": "",
   "id": "d5e7b1cc4847064",
   "outputs": [],
   "execution_count": null
  }
 ],
 "metadata": {
  "kernelspec": {
   "display_name": "Python 3",
   "language": "python",
   "name": "python3"
  },
  "language_info": {
   "codemirror_mode": {
    "name": "ipython",
    "version": 2
   },
   "file_extension": ".py",
   "mimetype": "text/x-python",
   "name": "python",
   "nbconvert_exporter": "python",
   "pygments_lexer": "ipython2",
   "version": "2.7.6"
  }
 },
 "nbformat": 4,
 "nbformat_minor": 5
}
